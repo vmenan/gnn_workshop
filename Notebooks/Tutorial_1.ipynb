{
  "nbformat": 4,
  "nbformat_minor": 0,
  "metadata": {
    "colab": {
      "provenance": []
    },
    "kernelspec": {
      "name": "python3",
      "display_name": "Python 3"
    }
  },
  "cells": [
    {
      "cell_type": "markdown",
      "source": [
        "# Tutorial 1 \n",
        "Here we understand one variant of Graph Neural Network which is know as Graph Convolutional Neural Network by [Kipf et al. (2017)](https://arxiv.org/abs/1609.02907). We utilize a deeplearning framework developed for deep learning on graphs called  **[PyTorch Geometric (PyG) library](https://github.com/rusty1s/pytorch_geometric)**. This library is one of the best libraries for graph machine learning. It has a very active community. And all main architecture implementations are present. Please do check it out.\n",
        "\n",
        "This tutorial is adapted from https://colab.research.google.com/drive/1h3-vJGRVloF5zStxL5I0rSy4ZUPNsjy8?usp=sharing#scrollTo=ci-LpZWhRJoI by [Matthias Fey](https://rusty1s.github.io/#/)"
      ],
      "metadata": {
        "id": "mP3c5A9y0F21"
      }
    },
    {
      "cell_type": "markdown",
      "source": [
        "### Lets start with installing the dependencies\n",
        "Since Pytorch and Pytorch Geometric takes some time to set up locally, we highly suggest you to run all the code in Google Colab."
      ],
      "metadata": {
        "id": "qAgxFVg_1e1Z"
      }
    },
    {
      "cell_type": "code",
      "metadata": {
        "id": "zF5bw3m9UrMy",
        "colab": {
          "base_uri": "https://localhost:8080/"
        },
        "outputId": "88ee93bd-1798-4326-bbc1-84a8fd5226ee"
      },
      "source": [
        "# Install required packages.\n",
        "import os\n",
        "import torch\n",
        "os.environ['TORCH'] = torch.__version__\n",
        "print(torch.__version__)\n",
        "\n",
        "!pip install -q torch-scatter -f https://data.pyg.org/whl/torch-${TORCH}.html\n",
        "!pip install -q torch-sparse -f https://data.pyg.org/whl/torch-${TORCH}.html\n",
        "!pip install -q git+https://github.com/pyg-team/pytorch_geometric.git\n",
        "\n",
        "# Helper function for visualization.\n",
        "%matplotlib inline\n",
        "import networkx as nx\n",
        "import matplotlib.pyplot as plt"
      ],
      "execution_count": 9,
      "outputs": [
        {
          "output_type": "stream",
          "name": "stdout",
          "text": [
            "1.13.0+cu116\n"
          ]
        }
      ]
    },
    {
      "cell_type": "markdown",
      "metadata": {
        "id": "qoW2Z7P70LNQ"
      },
      "source": [
        "# Introduction: Hands-on Graph Neural Networks\n",
        "\n",
        "Recently, deep learning on graphs has emerged to one of the hottest research fields in the deep learning community.\n",
        "Here, **Graph Neural Networks (GNNs)** aim to generalize classical deep learning concepts to irregular structured data (in contrast to images or texts) and to enable neural networks to reason about objects and their relations.\n",
        "\n",
        "This is done by following a simple **neural message passing scheme**, where node features $\\mathbf{x}_v^{(\\ell)}$ of all nodes $v \\in \\mathcal{V}$ in a graph $\\mathcal{G} = (\\mathcal{V}, \\mathcal{E})$ are iteratively updated by aggregating localized information from their neighbors $\\mathcal{N}(v)$:\n",
        "\n",
        "$$\n",
        "\\mathbf{x}_v^{(\\ell + 1)} = f^{(\\ell + 1)}_{\\theta} \\left( \\mathbf{x}_v^{(\\ell)}, \\left\\{ \\mathbf{x}_w^{(\\ell)} : w \\in \\mathcal{N}(v) \\right\\} \\right)\n",
        "$$\n",
        "\n",
        "Following [Kipf et al. (2017)](https://arxiv.org/abs/1609.02907), let's dive into the world of GNNs by looking at a simple graph-structured example, the well-known [**Zachary's karate club network**](https://en.wikipedia.org/wiki/Zachary%27s_karate_club). This graph describes a social network of 34 members of a karate club and documents links between members who interacted outside the club. Here, we are interested in detecting communities that arise from the member's interaction.\n",
        "\n",
        "PyTorch Geometric provides an easy access to this dataset via the [`torch_geometric.datasets`](https://pytorch-geometric.readthedocs.io/en/latest/modules/datasets.html#torch_geometric.datasets) subpackage:"
      ]
    },
    {
      "cell_type": "markdown",
      "source": [
        "Lets start by importing the ```KarateClub``` dataset and describing the dataset"
      ],
      "metadata": {
        "id": "Zyr8MDCs1-Ft"
      }
    },
    {
      "cell_type": "code",
      "metadata": {
        "id": "H_VTFHd0uFz6",
        "colab": {
          "base_uri": "https://localhost:8080/"
        },
        "outputId": "d10a8f81-97a2-4cee-fcc7-9ce80c70db32"
      },
      "source": [
        "from torch_geometric.datasets import KarateClub\n",
        "\n",
        "dataset = KarateClub()\n",
        "print(f'Dataset: {dataset}:')\n",
        "print('======================')\n",
        "print(f'Number of graphs: {len(dataset)}')\n",
        "print(f'Number of features: {dataset.num_features}')\n",
        "print(f'Number of classes: {dataset.num_classes}')"
      ],
      "execution_count": 10,
      "outputs": [
        {
          "output_type": "stream",
          "name": "stdout",
          "text": [
            "Dataset: KarateClub():\n",
            "======================\n",
            "Number of graphs: 1\n",
            "Number of features: 34\n",
            "Number of classes: 4\n"
          ]
        }
      ]
    },
    {
      "cell_type": "markdown",
      "metadata": {
        "id": "7cjjyFVnpKB0"
      },
      "source": [
        "After initializing the [`KarateClub`](https://pytorch-geometric.readthedocs.io/en/latest/modules/datasets.html#torch_geometric.datasets.KarateClub) dataset, we first can inspect some of its properties.\n",
        "For example, we can see that this dataset holds exactly **one graph**, and that each node in this dataset is assigned a **34-dimensional feature vector** (which uniquely describes the members of the karate club).\n",
        "Furthermore, the graph holds exactly **4 classes**, which represent the community each node belongs to.\n",
        "\n",
        "Let's now look at the underlying graph in more detail:"
      ]
    },
    {
      "cell_type": "markdown",
      "source": [
        "We can easily visualize the dataset by converting it to a Networkx Graph([NetworkX](https://networkx.org/) is a graph library for python. It contains classical graph methods to understand and model graph problems)"
      ],
      "metadata": {
        "id": "0R4Jv2ZQ5PNt"
      }
    },
    {
      "cell_type": "code",
      "source": [
        "from torch_geometric.utils import to_networkx\n",
        "\n",
        "G = to_networkx(dataset[0], to_undirected=True)\n",
        "nx.draw(G, node_color=dataset[0].y)"
      ],
      "metadata": {
        "colab": {
          "base_uri": "https://localhost:8080/",
          "height": 319
        },
        "id": "UBR5twdD5Oxc",
        "outputId": "f4dbcd0f-507a-471e-df02-3e613af700f5"
      },
      "execution_count": 11,
      "outputs": [
        {
          "output_type": "display_data",
          "data": {
            "text/plain": [
              "<Figure size 432x288 with 1 Axes>"
            ],
            "image/png": "[encoded data removed]"
          },
          "metadata": {}
        }
      ]
    },
    {
      "cell_type": "markdown",
      "source": [
        "In the above cell ```to_networkx``` is the helper function from PyG to convert the dataset to a networkx graph. We then use the different labels as the node colouring in the ```nx.draw``` function. "
      ],
      "metadata": {
        "id": "BpKioZ2gVjge"
      }
    },
    {
      "cell_type": "markdown",
      "source": [
        "Lets see how the node degree histogram looks like for this graph"
      ],
      "metadata": {
        "id": "z1lQ4RRoVbtS"
      }
    },
    {
      "cell_type": "code",
      "source": [
        "import matplotlib.pyplot as plt\n",
        "import networkx as nx\n",
        "\n",
        "def plot_degree_dist(G):\n",
        "    degrees = [G.degree(n) for n in G.nodes()]\n",
        "    print(degrees)\n",
        "    plt.hist(degrees)\n",
        "    plt.title(\"Node Degree Distribution\")\n",
        "    plt.xlabel(\"Degree\")\n",
        "    plt.ylabel(\"# of Nodes\")\n",
        "    plt.show()\n",
        "\n",
        "plot_degree_dist(G)"
      ],
      "metadata": {
        "colab": {
          "base_uri": "https://localhost:8080/",
          "height": 312
        },
        "id": "8h4lMwvVaz6u",
        "outputId": "468ccaa4-1a16-4a3b-c090-75a58cb4b532"
      },
      "execution_count": 12,
      "outputs": [
        {
          "output_type": "stream",
          "name": "stdout",
          "text": [
            "[16, 9, 10, 6, 3, 4, 4, 4, 5, 2, 3, 1, 2, 5, 2, 2, 2, 2, 2, 3, 2, 2, 2, 5, 3, 3, 2, 4, 3, 4, 4, 6, 12, 17]\n"
          ]
        },
        {
          "output_type": "display_data",
          "data": {
            "text/plain": [
              "<Figure size 432x288 with 1 Axes>"
            ],
            "image/png": "[encoded data removed]"
          },
          "metadata": {
            "needs_background": "light"
          }
        }
      ]
    },
    {
      "cell_type": "markdown",
      "source": [
        "We will see some basic statistics of the graph object uisng the PyG ```Data``` object"
      ],
      "metadata": {
        "id": "d-5oeLDJb_AW"
      }
    },
    {
      "cell_type": "code",
      "metadata": {
        "id": "gUFSrDPxuQ23",
        "colab": {
          "base_uri": "https://localhost:8080/"
        },
        "outputId": "b52d84d8-f322-4c52-e296-022e042c0f54"
      },
      "source": [
        "data = dataset[0]  # Get the first graph object.\n",
        "\n",
        "print(data)\n",
        "print('==============================================================')\n",
        "\n",
        "# Gather some statistics about the graph.\n",
        "print(f'Number of nodes: {data.num_nodes}')\n",
        "print(f'Number of edges: {data.num_edges}')\n",
        "print(f'Average node degree: {data.num_edges / data.num_nodes:.2f}')\n",
        "print(f'Number of training nodes: {data.train_mask.sum()}')\n",
        "print(f'Training node label rate: {int(data.train_mask.sum()) / data.num_nodes:.2f}')\n",
        "print(f'Has isolated nodes: {data.has_isolated_nodes()}')\n",
        "print(f'Has self-loops: {data.has_self_loops()}')\n",
        "print(f'Is undirected: {data.is_undirected()}')"
      ],
      "execution_count": 13,
      "outputs": [
        {
          "output_type": "stream",
          "name": "stdout",
          "text": [
            "Data(x=[34, 34], edge_index=[2, 156], y=[34], train_mask=[34])\n",
            "==============================================================\n",
            "Number of nodes: 34\n",
            "Number of edges: 156\n",
            "Average node degree: 4.59\n",
            "Number of training nodes: 4\n",
            "Training node label rate: 0.12\n",
            "Has isolated nodes: False\n",
            "Has self-loops: False\n",
            "Is undirected: True\n"
          ]
        }
      ]
    },
    {
      "cell_type": "markdown",
      "metadata": {
        "id": "MY4pZma9p3Ax"
      },
      "source": [
        "Each graph in PyTorch Geometric is represented by a single [`Data`](https://pytorch-geometric.readthedocs.io/en/latest/modules/data.html#torch_geometric.data.Data) object, which holds all the information to describe its graph representation.\n",
        "We can print the data object anytime via `print(data)` to receive a short summary about its attributes and their shapes:\n",
        "```\n",
        "Data(edge_index=[2, 156], x=[34, 34], y=[34], train_mask=[34])\n",
        "```\n",
        "We can see that this `data` object holds 4 attributes:\n",
        "(1) The `edge_index` property holds the information about the **graph connectivity**, *i.e.*, a tuple of source and destination node indices for each edge.\n",
        "PyG further refers to (2) **node features** as `x` (each of the 34 nodes is assigned a 34-dim feature vector), and to (3) **node labels** as `y` (each node is assigned to exactly one class).\n",
        "(4) There also exists an additional attribute called `train_mask`, which describes for which nodes we already know their community assigments.\n",
        "In total, we are only aware of the ground-truth labels of 4 nodes (one for each community), and the task is to infer the community assignment for the remaining nodes.\n",
        "\n",
        "The `data` object also provides some **utility functions** to infer some basic properties of the underlying graph.\n",
        "For example, we can easily infer whether there exists isolated nodes in the graph (*i.e.* there exists no edge to any node), whether the graph contains self-loops (*i.e.*, $(v, v) \\in \\mathcal{E}$), or whether the graph is undirected (*i.e.*, for each edge $(v, w) \\in \\mathcal{E}$ there also exists the edge $(w, v) \\in \\mathcal{E}$).\n",
        "\n",
        "Let us now inspect the `edge_index` property in more detail:"
      ]
    },
    {
      "cell_type": "code",
      "metadata": {
        "id": "ci-LpZWhRJoI",
        "colab": {
          "base_uri": "https://localhost:8080/",
          "height": 300
        },
        "outputId": "8daae85d-1b6b-4982-c3b8-66ce88262dc4"
      },
      "source": [
        "from IPython.display import Javascript  # Restrict height of output cell.\n",
        "display(Javascript('''google.colab.output.setIframeHeight(0, true, {maxHeight: 300})'''))\n",
        "\n",
        "edge_index = data.edge_index\n",
        "print(edge_index.t())"
      ],
      "execution_count": 14,
      "outputs": [
        {
          "output_type": "display_data",
          "data": {
            "text/plain": [
              "<IPython.core.display.Javascript object>"
            ],
            "application/javascript": [
              "google.colab.output.setIframeHeight(0, true, {maxHeight: 300})"
            ]
          },
          "metadata": {}
        },
        {
          "output_type": "stream",
          "name": "stdout",
          "text": [
            "tensor([[ 0,  1],\n",
            "        [ 0,  2],\n",
            "        [ 0,  3],\n",
            "        [ 0,  4],\n",
            "        [ 0,  5],\n",
            "        [ 0,  6],\n",
            "        [ 0,  7],\n",
            "        [ 0,  8],\n",
            "        [ 0, 10],\n",
            "        [ 0, 11],\n",
            "        [ 0, 12],\n",
            "        [ 0, 13],\n",
            "        [ 0, 17],\n",
            "        [ 0, 19],\n",
            "        [ 0, 21],\n",
            "        [ 0, 31],\n",
            "        [ 1,  0],\n",
            "        [ 1,  2],\n",
            "        [ 1,  3],\n",
            "        [ 1,  7],\n",
            "        [ 1, 13],\n",
            "        [ 1, 17],\n",
            "        [ 1, 19],\n",
            "        [ 1, 21],\n",
            "        [ 1, 30],\n",
            "        [ 2,  0],\n",
            "        [ 2,  1],\n",
            "        [ 2,  3],\n",
            "        [ 2,  7],\n",
            "        [ 2,  8],\n",
            "        [ 2,  9],\n",
            "        [ 2, 13],\n",
            "        [ 2, 27],\n",
            "        [ 2, 28],\n",
            "        [ 2, 32],\n",
            "        [ 3,  0],\n",
            "        [ 3,  1],\n",
            "        [ 3,  2],\n",
            "        [ 3,  7],\n",
            "        [ 3, 12],\n",
            "        [ 3, 13],\n",
            "        [ 4,  0],\n",
            "        [ 4,  6],\n",
            "        [ 4, 10],\n",
            "        [ 5,  0],\n",
            "        [ 5,  6],\n",
            "        [ 5, 10],\n",
            "        [ 5, 16],\n",
            "        [ 6,  0],\n",
            "        [ 6,  4],\n",
            "        [ 6,  5],\n",
            "        [ 6, 16],\n",
            "        [ 7,  0],\n",
            "        [ 7,  1],\n",
            "        [ 7,  2],\n",
            "        [ 7,  3],\n",
            "        [ 8,  0],\n",
            "        [ 8,  2],\n",
            "        [ 8, 30],\n",
            "        [ 8, 32],\n",
            "        [ 8, 33],\n",
            "        [ 9,  2],\n",
            "        [ 9, 33],\n",
            "        [10,  0],\n",
            "        [10,  4],\n",
            "        [10,  5],\n",
            "        [11,  0],\n",
            "        [12,  0],\n",
            "        [12,  3],\n",
            "        [13,  0],\n",
            "        [13,  1],\n",
            "        [13,  2],\n",
            "        [13,  3],\n",
            "        [13, 33],\n",
            "        [14, 32],\n",
            "        [14, 33],\n",
            "        [15, 32],\n",
            "        [15, 33],\n",
            "        [16,  5],\n",
            "        [16,  6],\n",
            "        [17,  0],\n",
            "        [17,  1],\n",
            "        [18, 32],\n",
            "        [18, 33],\n",
            "        [19,  0],\n",
            "        [19,  1],\n",
            "        [19, 33],\n",
            "        [20, 32],\n",
            "        [20, 33],\n",
            "        [21,  0],\n",
            "        [21,  1],\n",
            "        [22, 32],\n",
            "        [22, 33],\n",
            "        [23, 25],\n",
            "        [23, 27],\n",
            "        [23, 29],\n",
            "        [23, 32],\n",
            "        [23, 33],\n",
            "        [24, 25],\n",
            "        [24, 27],\n",
            "        [24, 31],\n",
            "        [25, 23],\n",
            "        [25, 24],\n",
            "        [25, 31],\n",
            "        [26, 29],\n",
            "        [26, 33],\n",
            "        [27,  2],\n",
            "        [27, 23],\n",
            "        [27, 24],\n",
            "        [27, 33],\n",
            "        [28,  2],\n",
            "        [28, 31],\n",
            "        [28, 33],\n",
            "        [29, 23],\n",
            "        [29, 26],\n",
            "        [29, 32],\n",
            "        [29, 33],\n",
            "        [30,  1],\n",
            "        [30,  8],\n",
            "        [30, 32],\n",
            "        [30, 33],\n",
            "        [31,  0],\n",
            "        [31, 24],\n",
            "        [31, 25],\n",
            "        [31, 28],\n",
            "        [31, 32],\n",
            "        [31, 33],\n",
            "        [32,  2],\n",
            "        [32,  8],\n",
            "        [32, 14],\n",
            "        [32, 15],\n",
            "        [32, 18],\n",
            "        [32, 20],\n",
            "        [32, 22],\n",
            "        [32, 23],\n",
            "        [32, 29],\n",
            "        [32, 30],\n",
            "        [32, 31],\n",
            "        [32, 33],\n",
            "        [33,  8],\n",
            "        [33,  9],\n",
            "        [33, 13],\n",
            "        [33, 14],\n",
            "        [33, 15],\n",
            "        [33, 18],\n",
            "        [33, 19],\n",
            "        [33, 20],\n",
            "        [33, 22],\n",
            "        [33, 23],\n",
            "        [33, 26],\n",
            "        [33, 27],\n",
            "        [33, 28],\n",
            "        [33, 29],\n",
            "        [33, 30],\n",
            "        [33, 31],\n",
            "        [33, 32]])\n"
          ]
        }
      ]
    },
    {
      "cell_type": "markdown",
      "metadata": {
        "id": "kVARD8kstxAY"
      },
      "source": [
        "By printing `edge_index`, we can understand how PyG represents graph connectivity internally.\n",
        "We can see that for each edge, `edge_index` holds a tuple of two node indices, where the first value describes the node index of the source node and the second value describes the node index of the destination node of an edge.\n",
        "\n",
        "This representation is known as the **COO format (coordinate format)** commonly used for representing sparse matrices.\n",
        "Instead of holding the adjacency information in a dense representation $\\mathbf{A} \\in \\{ 0, 1 \\}^{|\\mathcal{V}| \\times |\\mathcal{V}|}$, PyG represents graphs sparsely, which refers to only holding the coordinates/values for which entries in $\\mathbf{A}$ are non-zero.\n",
        "\n",
        "Importantly, PyG does not distinguish between directed and undirected graphs, and treats undirected graphs as a special case of directed graphs in which reverse edges exist for every entry in `edge_index`.\n"
      ]
    },
    {
      "cell_type": "markdown",
      "source": [
        "Lets check the train mask to see how the information is encoded"
      ],
      "metadata": {
        "id": "S9VKmW6hfxQl"
      }
    },
    {
      "cell_type": "code",
      "source": [
        "from IPython.display import Javascript  # Restrict height of output cell.\n",
        "display(Javascript('''google.colab.output.setIframeHeight(0, true, {maxHeight: 300})'''))\n",
        "\n",
        "train_mask = data.train_mask\n",
        "print(train_mask)\n",
        "print()\n",
        "print(f\"number of known labels for training : {train_mask.sum()}\")"
      ],
      "metadata": {
        "colab": {
          "base_uri": "https://localhost:8080/",
          "height": 121
        },
        "id": "Zv4p-kR5f2-s",
        "outputId": "2d4f9cac-d176-4b06-bed2-deba76b7a198"
      },
      "execution_count": 15,
      "outputs": [
        {
          "output_type": "display_data",
          "data": {
            "text/plain": [
              "<IPython.core.display.Javascript object>"
            ],
            "application/javascript": [
              "google.colab.output.setIframeHeight(0, true, {maxHeight: 300})"
            ]
          },
          "metadata": {}
        },
        {
          "output_type": "stream",
          "name": "stdout",
          "text": [
            "tensor([ True, False, False, False,  True, False, False, False,  True, False,\n",
            "        False, False, False, False, False, False, False, False, False, False,\n",
            "        False, False, False, False,  True, False, False, False, False, False,\n",
            "        False, False, False, False])\n",
            "\n",
            "number of known labels for training : 4\n"
          ]
        }
      ]
    },
    {
      "cell_type": "markdown",
      "source": [
        "Now lets have look at the features as well"
      ],
      "metadata": {
        "id": "KqYwY_KZS8gw"
      }
    },
    {
      "cell_type": "code",
      "source": [
        "from IPython.display import Javascript  # Restrict height of output cell.\n",
        "display(Javascript('''google.colab.output.setIframeHeight(0, true, {maxHeight: 500})'''))\n",
        "\n",
        "x = data.x\n",
        "print(x)"
      ],
      "metadata": {
        "id": "0QwL4md6TKFa",
        "outputId": "e2150278-7381-4b73-a4a8-1c8617d264cd",
        "colab": {
          "base_uri": "https://localhost:8080/",
          "height": 138
        }
      },
      "execution_count": 16,
      "outputs": [
        {
          "output_type": "display_data",
          "data": {
            "text/plain": [
              "<IPython.core.display.Javascript object>"
            ],
            "application/javascript": [
              "google.colab.output.setIframeHeight(0, true, {maxHeight: 500})"
            ]
          },
          "metadata": {}
        },
        {
          "output_type": "stream",
          "name": "stdout",
          "text": [
            "tensor([[1., 0., 0.,  ..., 0., 0., 0.],\n",
            "        [0., 1., 0.,  ..., 0., 0., 0.],\n",
            "        [0., 0., 1.,  ..., 0., 0., 0.],\n",
            "        ...,\n",
            "        [0., 0., 0.,  ..., 1., 0., 0.],\n",
            "        [0., 0., 0.,  ..., 0., 1., 0.],\n",
            "        [0., 0., 0.,  ..., 0., 0., 1.]])\n"
          ]
        }
      ]
    },
    {
      "cell_type": "markdown",
      "source": [
        "As seen above, the node features are just an identity matrix I of shape 34x34. The reason for this is we for this dataset there weren't any known features. Hence we intialize it with Identity matrix.\n"
      ],
      "metadata": {
        "id": "liMHvX0JTtEG"
      }
    },
    {
      "cell_type": "markdown",
      "metadata": {
        "id": "kPbYXBn1yYIJ"
      },
      "source": [
        "## Implementing Graph Neural Networks\n",
        "\n",
        "After learning about PyG's data handling, it's time to implement our first Graph Neural Network!\n",
        "\n",
        "For this, we will use on of the most simple GNN operators, the **GCN layer** ([Kipf et al. (2017)](https://arxiv.org/abs/1609.02907)), which is defined as\n",
        "\n",
        "$$\n",
        "\\mathbf{x}_v^{(\\ell + 1)} = \\mathbf{W}^{(\\ell + 1)} \\sum_{w \\in \\mathcal{N}(v) \\, \\cup \\, \\{ v \\}} \\frac{1}{c_{w,v}} \\cdot \\mathbf{x}_w^{(\\ell)}\n",
        "$$\n",
        "\n",
        "where $\\mathbf{W}^{(\\ell + 1)}$ denotes a trainable weight matrix of shape `[num_output_features, num_input_features]` and $c_{w,v}$ refers to a fixed normalization coefficient for each edge.\n",
        "\n",
        "PyG implements this layer via [`GCNConv`](https://pytorch-geometric.readthedocs.io/en/latest/modules/nn.html#torch_geometric.nn.conv.GCNConv), which can be executed by passing in the node feature representation `x` and the COO graph connectivity representation `edge_index`.\n",
        "\n",
        "With this, we are ready to create our first Graph Neural Network by defining our network architecture in a `torch.nn.Module` class:"
      ]
    },
    {
      "cell_type": "code",
      "metadata": {
        "id": "AkQAVluLuxT_",
        "colab": {
          "base_uri": "https://localhost:8080/"
        },
        "outputId": "9b75c872-67fb-42af-df21-176dafbd1602"
      },
      "source": [
        "import torch\n",
        "from torch.nn import Linear\n",
        "from torch_geometric.nn import GCNConv\n",
        "\n",
        "\n",
        "class GCN(torch.nn.Module):\n",
        "    def __init__(self):\n",
        "        super().__init__()\n",
        "        torch.manual_seed(1234)\n",
        "        self.conv1 = GCNConv(dataset.num_features, 4)\n",
        "        self.conv2 = GCNConv(4, 4)\n",
        "        self.conv3 = GCNConv(4, 2)\n",
        "        self.classifier = Linear(2, dataset.num_classes)\n",
        "\n",
        "    def forward(self, x, edge_index):\n",
        "        h = self.conv1(x, edge_index)\n",
        "        h = h.tanh()\n",
        "        h = self.conv2(h, edge_index)\n",
        "        h = h.tanh()\n",
        "        h = self.conv3(h, edge_index)\n",
        "        h = h.tanh()  # Final GNN embedding space.\n",
        "        \n",
        "        # Apply a final (linear) classifier.\n",
        "        out = self.classifier(h)\n",
        "\n",
        "        return out, h\n",
        "\n",
        "model = GCN()\n",
        "print(model)"
      ],
      "execution_count": 17,
      "outputs": [
        {
          "output_type": "stream",
          "name": "stdout",
          "text": [
            "GCN(\n",
            "  (conv1): GCNConv(34, 4)\n",
            "  (conv2): GCNConv(4, 4)\n",
            "  (conv3): GCNConv(4, 2)\n",
            "  (classifier): Linear(in_features=2, out_features=4, bias=True)\n",
            ")\n"
          ]
        }
      ]
    },
    {
      "cell_type": "markdown",
      "metadata": {
        "id": "hjsb3Fst2P8k"
      },
      "source": [
        "Here, we first initialize all of our building blocks in `__init__` and define the computation flow of our network in `forward`.\n",
        "We first define and stack **three graph convolution layers**, which corresponds to aggregating 3-hop neighborhood information around each node (all nodes up to 3 \"hops\" away).\n",
        "In addition, the `GCNConv` layers reduce the node feature dimensionality to $2$, *i.e.*, $34 \\rightarrow 4 \\rightarrow 4 \\rightarrow 2$. Each `GCNConv` layer is enhanced by a [tanh](https://pytorch.org/docs/stable/generated/torch.nn.Tanh.html?highlight=tanh#torch.nn.Tanh) non-linearity.\n",
        "\n",
        "After that, we apply a single linear transformation ([`torch.nn.Linear`](https://pytorch.org/docs/stable/generated/torch.nn.Linear.html?highlight=linear#torch.nn.Linear)) that acts as a classifier to map our nodes to 1 out of the 4 classes/communities.\n",
        "\n",
        "We return both the output of the final classifier as well as the final node embeddings produced by our GNN.\n",
        "We proceed to initialize our final model via `GCN()`, and printing our model produces a summary of all its used sub-modules.\n"
      ]
    },
    {
      "cell_type": "markdown",
      "metadata": {
        "id": "Dt8fPEmc4m5l"
      },
      "source": [
        "### Embedding the Karate Club Network\n",
        "\n",
        "Let's take a look at the node embeddings produced by our GNN.\n",
        "Here, we pass in the initial node features `x` and the graph connectivity information `edge_index` to the model, and visualize its 2-dimensional embedding."
      ]
    },
    {
      "cell_type": "code",
      "metadata": {
        "id": "nwHtX5siwe2v",
        "colab": {
          "base_uri": "https://localhost:8080/"
        },
        "outputId": "28792eb4-9de8-41c7-cd69-ae695d4c7053"
      },
      "source": [
        "model = GCN()\n",
        "\n",
        "_, h = model(data.x, data.edge_index)\n",
        "print(f'Embedding shape: {list(h.shape)}')\n"
      ],
      "execution_count": 18,
      "outputs": [
        {
          "output_type": "stream",
          "name": "stdout",
          "text": [
            "Embedding shape: [34, 2]\n"
          ]
        }
      ]
    },
    {
      "cell_type": "markdown",
      "metadata": {
        "id": "1-W5Kfhu5I-P"
      },
      "source": [
        "Remarkably, even before training the weights of our model, the model produces an embedding of nodes that closely resembles the community-structure of the graph.\n",
        "Nodes of the same color (community) are already closely clustered together in the embedding space, although the weights of our model are initialized **completely at random** and we have not yet performed any training so far!\n",
        "This leads to the conclusion that GNNs introduce a strong inductive bias, leading to similar embeddings for nodes that are close to each other in the input graph.\n",
        "\n",
        "### Training on the Karate Club Network\n",
        "\n",
        "But can we do better? Let's look at an example on how to train our network parameters based on the knowledge of the community assignments of 4 nodes in the graph (one for each community):\n",
        "\n",
        "Since everything in our model is differentiable and parameterized, we can add some labels, train the model and observse how the embeddings react.\n",
        "Here, we make use of a semi-supervised or transductive learning procedure: We simply train against one node per class, but are allowed to make use of the complete input graph data.\n",
        "\n",
        "Training our model is very similar to any other PyTorch model.\n",
        "In addition to defining our network architecture, we define a loss critertion (here, [`CrossEntropyLoss`](https://pytorch.org/docs/stable/generated/torch.nn.CrossEntropyLoss.html)) and initialize a stochastic gradient optimizer (here, [`Adam`](https://pytorch.org/docs/stable/optim.html?highlight=adam#torch.optim.Adam)).\n",
        "After that, we perform multiple rounds of optimization, where each round consists of a forward and backward pass to compute the gradients of our model parameters w.r.t. to the loss derived from the forward pass.\n",
        "If you are not new to PyTorch, this scheme should appear familar to you. \n",
        "Otherwise, the PyTorch docs provide [a good introduction on how to train a neural network in PyTorch](https://pytorch.org/tutorials/beginner/blitz/cifar10_tutorial.html#define-a-loss-function-and-optimizer).\n",
        "\n",
        "Note that our semi-supervised learning scenario is achieved by the following line:\n",
        "```\n",
        "loss = criterion(out[data.train_mask], data.y[data.train_mask])\n",
        "```\n",
        "While we compute node embeddings for all of our nodes, we **only make use of the training nodes for computing the loss**.\n",
        "Here, this is implemented by filtering the output of the classifier `out` and ground-truth labels `data.y` to only contain the nodes in the `train_mask`.\n",
        "\n",
        "Let us now start training and see how our node embeddings evolve over time (best experienced by explicitely running the code):"
      ]
    },
    {
      "cell_type": "code",
      "metadata": {
        "id": "etxOsz8QIbMO",
        "colab": {
          "base_uri": "https://localhost:8080/",
          "height": 17
        },
        "outputId": "88d50555-d846-4da7-9499-8ab8e8ef21bd"
      },
      "source": [
        "import time\n",
        "from IPython.display import Javascript  # Restrict height of output cell.\n",
        "display(Javascript('''google.colab.output.setIframeHeight(0, true, {maxHeight: 430})'''))\n",
        "\n",
        "model = GCN()\n",
        "criterion = torch.nn.CrossEntropyLoss()  # Define loss criterion.\n",
        "optimizer = torch.optim.Adam(model.parameters(), lr=0.01)  # Define optimizer.\n",
        "\n",
        "def train(data):\n",
        "    optimizer.zero_grad()  # Clear gradients.\n",
        "    out, h = model(data.x, data.edge_index)  # Perform a single forward pass.\n",
        "    loss = criterion(out[data.train_mask], data.y[data.train_mask])  # Compute the loss solely based on the training nodes.\n",
        "    loss.backward()  # Derive gradients.\n",
        "    optimizer.step()  # Update parameters based on gradients.\n",
        "    return loss, h"
      ],
      "execution_count": 19,
      "outputs": [
        {
          "output_type": "display_data",
          "data": {
            "text/plain": [
              "<IPython.core.display.Javascript object>"
            ],
            "application/javascript": [
              "google.colab.output.setIframeHeight(0, true, {maxHeight: 430})"
            ]
          },
          "metadata": {}
        }
      ]
    },
    {
      "cell_type": "code",
      "source": [
        "embeddings = []\n",
        "losses = []\n",
        "epochs = []\n",
        "\n",
        "for epoch in range(401):\n",
        "  loss, h = train(data)\n",
        "  if epoch % 10 == 0:\n",
        "    losses.append(loss)\n",
        "    embeddings.append(h)\n",
        "    epochs.append(epoch)\n",
        "    print(f\"Epoch: {epoch}\\tLoss: {loss:4f}\")"
      ],
      "metadata": {
        "colab": {
          "base_uri": "https://localhost:8080/"
        },
        "id": "kCrkggct_hey",
        "outputId": "ccfe4e4f-2caf-4929-a3ac-b09bf2b018d4"
      },
      "execution_count": 20,
      "outputs": [
        {
          "output_type": "stream",
          "name": "stdout",
          "text": [
            "Epoch: 0\tLoss: 1.432433\n",
            "Epoch: 10\tLoss: 1.354739\n",
            "Epoch: 20\tLoss: 1.206296\n",
            "Epoch: 30\tLoss: 0.984431\n",
            "Epoch: 40\tLoss: 0.759280\n",
            "Epoch: 50\tLoss: 0.563181\n",
            "Epoch: 60\tLoss: 0.416108\n",
            "Epoch: 70\tLoss: 0.318797\n",
            "Epoch: 80\tLoss: 0.254822\n",
            "Epoch: 90\tLoss: 0.211046\n",
            "Epoch: 100\tLoss: 0.179521\n",
            "Epoch: 110\tLoss: 0.155785\n",
            "Epoch: 120\tLoss: 0.137259\n",
            "Epoch: 130\tLoss: 0.122379\n",
            "Epoch: 140\tLoss: 0.110155\n",
            "Epoch: 150\tLoss: 0.099930\n",
            "Epoch: 160\tLoss: 0.091252\n",
            "Epoch: 170\tLoss: 0.083797\n",
            "Epoch: 180\tLoss: 0.077327\n",
            "Epoch: 190\tLoss: 0.071663\n",
            "Epoch: 200\tLoss: 0.066666\n",
            "Epoch: 210\tLoss: 0.062230\n",
            "Epoch: 220\tLoss: 0.058267\n",
            "Epoch: 230\tLoss: 0.054709\n",
            "Epoch: 240\tLoss: 0.051498\n",
            "Epoch: 250\tLoss: 0.048588\n",
            "Epoch: 260\tLoss: 0.045942\n",
            "Epoch: 270\tLoss: 0.043525\n",
            "Epoch: 280\tLoss: 0.041311\n",
            "Epoch: 290\tLoss: 0.039276\n",
            "Epoch: 300\tLoss: 0.037401\n",
            "Epoch: 310\tLoss: 0.035669\n",
            "Epoch: 320\tLoss: 0.034064\n",
            "Epoch: 330\tLoss: 0.032574\n",
            "Epoch: 340\tLoss: 0.031187\n",
            "Epoch: 350\tLoss: 0.029895\n",
            "Epoch: 360\tLoss: 0.028687\n",
            "Epoch: 370\tLoss: 0.027556\n",
            "Epoch: 380\tLoss: 0.026496\n",
            "Epoch: 390\tLoss: 0.025501\n",
            "Epoch: 400\tLoss: 0.024565\n"
          ]
        }
      ]
    },
    {
      "cell_type": "markdown",
      "metadata": {
        "id": "NgcpV4rjAWy-"
      },
      "source": [
        "As one can see, our 3-layer GCN model manages to linearly separating the communities and classifying most of the nodes correctly.\n",
        "\n",
        "Furthermore, we did this all with a few lines of code, thanks to the PyTorch Geometric library which helped us out with data handling and GNN implementations.\n",
        "\n"
      ]
    },
    {
      "cell_type": "markdown",
      "source": [
        "Now lets see how the embedding transformed after every 10 epochs\n"
      ],
      "metadata": {
        "id": "_nAhJ10L_0vK"
      }
    },
    {
      "cell_type": "code",
      "source": [
        "import matplotlib.animation as animation\n",
        "\n",
        "def animate(i):\n",
        "    ax.clear()\n",
        "    h = embeddings[i]\n",
        "    h = h.detach().numpy()\n",
        "    ax.scatter(h[:, 0], h[:, 1], c=data.y, s=100)\n",
        "    ax.set_title(f'Epoch: {epochs[i]}, Loss: {losses[i].item():.4f}')\n",
        "    ax.set_xlim([-1.1, 1.1])\n",
        "    ax.set_ylim([-1.1, 1.1])\n",
        "\n",
        "fig = plt.figure(figsize=(7, 7))\n",
        "ax = plt.axes()\n",
        "anim = animation.FuncAnimation(fig, animate, frames=len(epochs))\n",
        "plt.show()"
      ],
      "metadata": {
        "colab": {
          "base_uri": "https://localhost:8080/",
          "height": 444
        },
        "id": "UA7FDRTIjFpd",
        "outputId": "7d9ef286-209a-4fef-ac84-ad455adf4be2"
      },
      "execution_count": 21,
      "outputs": [
        {
          "output_type": "display_data",
          "data": {
            "text/plain": [
              "<Figure size 504x504 with 1 Axes>"
            ],
            "image/png": "[encoded data removed]"
          },
          "metadata": {
            "needs_background": "light"
          }
        }
      ]
    },
    {
      "cell_type": "code",
      "source": [
        "from IPython import display\n",
        "\n",
        "video = anim.to_html5_video()\n",
        "html_code = display.HTML(video)\n",
        "display.display(html_code)"
      ],
      "metadata": {
        "colab": {
          "base_uri": "https://localhost:8080/",
          "height": 526
        },
        "id": "vWv2jaT4AG1N",
        "outputId": "07961ea8-b07b-4730-98ef-7c4e15614d04"
      },
      "execution_count": 22,
      "outputs": [
        {
          "output_type": "display_data",
          "data": {
            "text/plain": [
              "<IPython.core.display.HTML object>"
            ],
            "text/html": [
              "<video width=\"504\" height=\"504\" controls autoplay loop>\n",
              "  <source type=\"video/mp4\" src=\"data:video/mp4;base64,AAAAHGZ0eXBNNFYgAAACAGlzb21pc28yYXZjMQAAAAhmcmVlAACyAm1kYXQAAAKtBgX//6ncRem9\n",
              "5tlIt5Ys2CDZI+7veDI2NCAtIGNvcmUgMTUyIHIyODU0IGU5YTU5MDMgLSBILjI2NC9NUEVHLTQg\n",
              "QVZDIGNvZGVjIC0gQ29weWxlZnQgMjAwMy0yMDE3IC0gaHR0cDovL3d3dy52aWRlb2xhbi5vcmcv\n",
              "eDI2NC5odG1sIC0gb3B0aW9uczogY2FiYWM9MSByZWY9MyBkZWJsb2NrPTE6MDowIGFuYWx5c2U9\n",
              "MHgzOjB4MTEzIG1lPWhleCBzdWJtZT03IHBzeT0xIHBzeV9yZD0xLjAwOjAuMDAgbWl4ZWRfcmVm\n",
              "PTEgbWVfcmFuZ2U9MTYgY2hyb21hX21lPTEgdHJlbGxpcz0xIDh4OGRjdD0xIGNxbT0wIGRlYWR6\n",
              "b25lPTIxLDExIGZhc3RfcHNraXA9MSBjaHJvbWFfcXBfb2Zmc2V0PS0yIHRocmVhZHM9MyBsb29r\n",
              "YWhlYWRfdGhyZWFkcz0xIHNsaWNlZF90aHJlYWRzPTAgbnI9MCBkZWNpbWF0ZT0xIGludGVybGFj\n",
              "ZWQ9MCBibHVyYXlfY29tcGF0PTAgY29uc3RyYWluZWRfaW50cmE9MCBiZnJhbWVzPTMgYl9weXJh\n",
              "bWlkPTIgYl9hZGFwdD0xIGJfYmlhcz0wIGRpcmVjdD0xIHdlaWdodGI9MSBvcGVuX2dvcD0wIHdl\n",
              "aWdodHA9MiBrZXlpbnQ9MjUwIGtleWludF9taW49NSBzY2VuZWN1dD00MCBpbnRyYV9yZWZyZXNo\n",
              "PTAgcmNfbG9va2FoZWFkPTQwIHJjPWNyZiBtYnRyZWU9MSBjcmY9MjMuMCBxY29tcD0wLjYwIHFw\n",
              "bWluPTAgcXBtYXg9NjkgcXBzdGVwPTQgaXBfcmF0aW89MS40MCBhcT0xOjEuMDAAgAAAFMhliIQA\n",
              "Ev/+963fgU3AQO1rulc4tMurlDQ9UfaUpni2SAAAAwAAAwCwG14GfOXMOFoIAACXCGNCXX9xc88A\n",
              "GrmBJqn4Qke/7jTQvntxpkiLYn1lh0Mls6SfIQh5htoHrjROvdDi5IGr9VSU4q5KFMLIw3D8cgS9\n",
              "1VclSoMPbtRkQhshopU6j8oDB2unEYJuNS9ATwmRzMvh6xoy6NDepU4SIl6mfE3M2iQS0xm/QK+8\n",
              "YMqtPNrPm+5vh5i+b63dwClTt+YdZxT3FgIrU4XCwVSO5l9HLepF2ye5zICPhGPxxXTwJuoz0kv4\n",
              "dd2UFIuW3R1qckeZqZZzzzsexAqddexl6JmsakhFzzbFm6/IftWEQInbPokLjOfcOvhDCDoly6At\n",
              "AkO3AvlNo53NsKduKVJp5oAH8nnX9Bv+bGGU6O/FrNY1sWU1XpGc16qdO19/si02D0untrw7TMkW\n",
              "0hr2QaCD2vIz9ud/tfVw3x/1MO6GqH7+cKY8XiXzOACrNqoMVq34Wd3sn1Wm3LTW9wALbth7tjFq\n",
              "a4sxfP1pXuE5R45M5RwPv/5u6rfoZj840PjaqhTMd2L4Z3wnZlclWZ8v67E3vEhVO0VB4C65bbuw\n",
              "THVdpzjkWdjlQjsbWEzf/cFyOSH6sGVrmZiErvWpgHhRhJvSyKzDAYOleRQr5HhF8r9nfnW+zS8W\n",
              "Ws7f8PtKwXQkUzBWhimxgah8UFbFO++QkkcbLWpJ2b7Ro6Mei7NP17gfCW/Jng8C+bqfU7YO3OQW\n",
              "y5BlFsKEKZFr98mx2e3uzysCxLL0xZTdtMyv8NaMvl9FpScIipTTKAw/EqUjijZgCw0c0VTm75A+\n",
              "XV0XZgBuuxY8bcg9ksd0qqPbJN5fr65eHapvArRnAhM010SGnw7F0BzrGT62i7RMA5AcFytnD7lP\n",
              "nItAAiiEAPhLLpRHcySYeWX6t1BoFzkSNyDhnT5VPNPaVJ+qenxVOipIuD/bqA+Mo1XX3Ykh226C\n",
              "eczF2lk71+s3K1F6+Zid6z9f7+TlsNGu9KM7wqjeH170sAZe/lx3aTWJFKNT4NGf2BQEYs08EwdD\n",
              "f/84CGZ5WBV7LdbCbWqMc+YR7YjDxdAqQYrhkZ3Qcv3ZdhoB8gDJzXuRqBxMWordy8aM9yiKypSn\n",
              "bJP8zEq7HrKdCfBJNcwqFQGXuCDqQWmFs65qfjLlxuX3PkPMiCnXO9lg9lvj+TUhYxxj6+6/TF3l\n",
              "+rYoUD8c6zFjsB348HvpawaJN1TDb9tHq1VnL4LjsdEyExhCHCxksHptezm4Le9BW4OmaL2vw5t1\n",
              "4MH0t1/tHcFTf0UUuz3zXoEvGWpm6x44ItGj8PorwAZ11cEwfUuGjMqiFdAUiWcyVUQ8Fqf7AM3r\n",
              "RuIk6Y3kPinjZdoIWfpTjQpf1oghFx4JAOL3QcHG20HDhoDf6p2KzzFZYicDPaNy+HQq9eyfQhhL\n",
              "8+JCkZSqvatrIRUsdfMIeNcJBFx6czYZD+V5O/sHyJC89GlTaaqzuEvbzMjEpSuQtcs5KWtVYF80\n",
              "8dnlnI+3hkU6OJgiZGHYPr7Nm7swH8jgmfRXtbINeewBwTl/rYOFjF+YkPinZxiwpl6AXkdC7Giw\n",
              "e1pVsMH9Yg3e+l7JDyygEzzgTmtvIbGxPXg6beFTIycl+5SWBwgxp/s/o9ZNzRi7YBJ3SPzOzoUs\n",
              "kdZBpyPfk/KnVCkNz3aZhvOwAKNwAXCC/UV2fSkHV405nYNFZNrc+5dVb/McUSzCdJwmaxbQ/dDs\n",
              "u+iplxQtEjZEuvo2AQ8dk+obGr/ys0AeNfSSJB99le9TBly7eOkV9Y4+NrUbWx/DDRp//46kAagB\n",
              "tDkFL476+xiu0xrPsiLZeoSLnaxhaPx6gl2hycUCfGpr15412ixzwt8jF7HLBkbr7Cnf/bOYhcBf\n",
              "CB6mWW8D770eyFlYTI83O4wospNm7UoaGTmLrUIWaB65ewHN4+KLE1impI1M8PKuoIub8XMDIXvr\n",
              "48/d+S63CoAAfdCg1REzM71CmzMORQvhTptxRFPIroVJ3XsY5oO+4pxs/KkV/6mGpj7PTv2EUnVx\n",
              "PzIZRWHj3ReoLKqRLkI6OxssDGmKzmjom9Expvadq4BoiaaaZEbeF28AYWnDf/vro/AQx61A/gAf\n",
              "/bYxlL0kw8T+yLyuAZ3X2pg5w2h/OWOraQkjBLNDOHXAQMTMByQX7M7TNalakgUCLw9zU+/35W/x\n",
              "KELCJLHcaiXPK39HtKEDzZ7bu2Vs2oVDP8J/6Hwu3pn7TSZngVKlXEfi/glZxhpVr7by9l5OjMbq\n",
              "aG1DKWAxNOJ5ao1j1M8/QjSij3EXdMzFo2C2YYLkDJzCAaI0Pr0yhiXQ6CZbszSbXECy+cAZ6rlG\n",
              "47clV89G6nEjgbCtVL0/0AoIK9WPr6xbi7VPqJlC4yTsuQATv+a8ensmQYr1tkW9r2sHUY2WjbeO\n",
              "9fAk/rARPlTEb40GiTZujM28GiNSiyWXPk6TzOizi0z+Jbq1WTwpUCYTRG4JiZZNpyjrkMIOha13\n",
              "ItxtzEpiebTdf6W62VATTSKu4euf+htfFW8nMHpW6DDqMgmRwqcMQfJ2bFWjiybwFwAPjl2HN2A2\n",
              "2e1iLyDA1dPdZHyViYDmc9GuBnFIIH3hQ9muGGKG2iqklcEAfrW6zNY0A/L5H4UJHn1AtFgDpUY8\n",
              "63rfRbf5sml/1lvQ48LBWo+XQH4fYdjWrGAkrcAHLtUITu6Uq6h0pzeumt9/jeMf6Mmy6k/Mqvr7\n",
              "s1T7JbAQ9O5/3/1wjpAA/PxO7nYEmE/Fm77T48Kn7DrkoxBiNR9168mEUW5FIgh6diCKEFiLqr/i\n",
              "Uj7WT35GtFnU7NXbk+i6ruBMv2yvpO0WGw2ZxgLKti9400LuQky+3QZpNOrFZA/vvi96Dk0YmT+s\n",
              "lHOi5t0zosSEkK8CU1b1TX9yZpq63sqSZ8RvvQ//gH83M9gtxVo8vQPxbXI8Vasn6G5PYOCLLV5E\n",
              "XQxXwi2l6jf2oCKlqDv92xBD/8JO0nRe2mFnupjETHvCZjKpjT1jZdsPYIYXoNnNw708kxupfnGI\n",
              "CYRY8XpwlZLWei71h0C3/1oWDhjRfuUD8wjOnWEU71UK1KX5MEJQmZoeK+TEUD9FQYynaab5j3i4\n",
              "k2kyxPk4RoXU/pSJ0Jh3RHvOl6MEeZb4nPxwAPbWE/mBOEuET/t+dvpHWa7tAmV9aSLcPz0hFqQU\n",
              "f3FrNNNqkqIlbF8EhZi3ShSJDm4iW1xXS56qUwNvuewvNUjmVoUnLza7a7vvGZvXFYlaHp0C/1pi\n",
              "0cK4RnPYtRicGiuF/4eGe/j8jGNQK6dSvfvUi6ZQ4oaBeEXFb9sq4B/SSe6tW3rn5TfEHdRPS67z\n",
              "6EWj1tA7Q98+KbsRULv3rwhVV9A4uf8vxUoOuM5EeNShRE0ogd4bACc5P/zhYTw/+Gc2MfYag5D4\n",
              "d+qtG6zY1FG+I1se9VGcbtqM2UVFNBCuw5dha9GxXB81Vqts6KgY6o4V9VZ6xU79TPwXyeh9VL1j\n",
              "CjU4SKJXGsAIfaxtva26RyY8L/jrW3w/zMPN66a7uEPyg5qnC7jejSJlUaMNXKH65QbwhqAiYWHe\n",
              "dJHGaJkirFvy4yrM9LNFKfLEzETUzFbvceeFESO9oSgKVCtXIztfwXa6MAyY1qPysY9W3jL1UGt+\n",
              "4yHninEWFjNvJdWUDfxdta/FymuzdLQeBUDKv2u7Gyj0fekwIhlzvOFWIWxYwnXJSuUSN5oBlESR\n",
              "hBZFGiZ8a6hDLd3cQbvHY5htMhSUsnXmsZ+dAuyOByjF5HDEQhwRrFg3s/YwZNL//zP2aoAHwiFw\n",
              "t4QV8WziaClQlw2V3BjpEBOQAABGiduZ6idv541un4JdKHRTCnf3rsuggH6PyhE55cSrg8/Xo639\n",
              "IaAEsl/O9gseUlbT0KGgCWJXids/J4aSs/nafHQ6kylAMvv8WG5RTp6a2Ao6Z9rGzOknyK6oP5/M\n",
              "Zc1we97/5vsbkYkYnJdGbxWBtPIY9XiZE52lmTWoRaHecstTiRoYY7/q2hHxRrB2bZi+iUc+ltAz\n",
              "to/RLL4XG2HFgEjF7V2SstngkKaLNdxNxcy1th/EjX7QiRJKLNCzdP8MEdwuXBb6pjR49n5a59bD\n",
              "abJNl/G2nH6HatGfZV8ExHdDEPA+yAmJjarwCit4aW5d4quZyQwTOW4ifAi9a0AADabQfIaecm6Y\n",
              "D2OrnaNIHvEdkpbq3DaEvZ9/ZM7enAskMq1P+XKUEzytrYuWvplFWbWjTGpy5vdlLkxTJpOexz8/\n",
              "M/w7MDrhTewLHvoyB8SlA3LRaTwZZsor8ErAq4O8jDWyPfsjFmi9zg/3v1xYCYzZtlDDqb4qU9Hb\n",
              "geygP9g9dbQEQTjqXwOVj9KH0bSB+65242LHuXi8Hw29R/gKb82fgNQgEkw/xu1x5lFL8f7OWiwS\n",
              "PNTmJ8r3CgKhY6AT3AiRzKicNt4QAADibnWIfVeTyTcWWqMrXvIrBzo//dbzJIi/6RfzAL1rYGdn\n",
              "g9pVIoCbO24GVMWpcsvKFSmUQ19ee4aNoKo6DBtIydEQ8u/84KwvHVYndMxXFskQNIv2kNmLqLol\n",
              "bW0mwwAsv7Ad1wao3dpGEGX7iHYxtIygqLVX8d4qayAyg7/F1Ma1GTSHhfMJ8XRrJI+xbCsoBkX9\n",
              "0MGZVt7UzW3nHUHmNx9dKaUGNvkyVR5bNWnwwxxupK9tIuHNHm1L79G+gCWoKQ9hu6cZnnoWIieE\n",
              "JGzPJq0rrD/7ScRnMdjJxjlxqTocN5G1B2IaGSwkZC2bexHjENKBtb8yvsR4z585okd1Yrg3OatH\n",
              "Lim+3AAdwrNpZpZQcKN5NIwHD9502lWKu9D5v////xinomPku35fNa8vcDCuPPF4gPQNLe4qiKe4\n",
              "3pNOCbX0wkKoJcQ4d4GTrUsqRfW0PG7wL5AqxAaOl7ZOc5TQb6v0d5XjvsmIsmblhvtWHei0CFZ8\n",
              "10unHgCeo/iG+2dgylLSXwBwae98OTglNJUSwm4IQ0z0Qfng85wkjK/9tDLm24EmpD9yPGAdQeoc\n",
              "SgCvCZkH7RPD2yn8XKrLVenUJku1OvEeJFTjpFP0m3UkA+a/S3hCB5XgKXjMjINYNgW3+J0P6wcL\n",
              "+/NB2qtQLBf0mdI4RDAFd8viUvBNY9sXPqrBFON2J1kskOgferXKR22pfB7+i0FPU7rwNzhBdWiw\n",
              "B57+MDj+lenC65Yu4d5jn8qr3D/sgA+gHXhP1jmt7kRE4uvpN/7QHW5ZBVhKi1NBqrdEs6t4KnWU\n",
              "AvR62RO2EDDyJOi9gfdsmkIASafuv59Rvd+9MIjPQtheaNtI0BY1/fHBFfLPyQ6KmjQ2SAczJ2md\n",
              "sAIGldu52vxLRawn82iD99SsvakBV3m1I/HfwYeTCM7SSVRe6lwkQff269OxmKfXt1j91GFv5oyC\n",
              "tgADeolOi47zLJrYwJxXXWHAYqXa+p3PJHn7QxI/MLR48tNiSBu47b7m5dP7wRfKBICl16W6V6o3\n",
              "t7nlSJx36cp3ZzAY9WSDFLPjaVCk5+ABxVQz3YMFnaO1cUr1ArQO62WWyyjO5Q879QsFCAXXgsAP\n",
              "Luq5AyWsWnm6UVZqm18fzgEF3OOSqqKpCYBXgmdONDKiOUqJJj00iefzNLQhfvEeJ3Z4GKP4RMyr\n",
              "nSORPOMNl+pBVLXehxggdn0BYqLKnKg8zgMiz4XaUA/wgv97c8z1ZH5Et+nZT46HVmaG1Rb7hR32\n",
              "aKZJy1ivpYrwvGsH5s7CgtDYD/r/tJqXiIdoCDxkRGJy2IwY0o/5Mh45k4GMtdXDbai3QNCIaRk0\n",
              "6VrAW80UaLysmmK67+hOpYEDO9s7coDemIUdVAKJY42gk9yZj0FnlC2sgKpDGGpUYx2ydf0ELZPd\n",
              "qhjWCLGujiTPW3APEMu5vBXNlcKsdoWbkrlhN0q0VMxre89CYHdhMS5d8CVEq88p90yPA/Azj7qF\n",
              "DkftrI5Ec6DSx888JWU6ckbvAKsRgfyewxo3mIvIPv8tYGV8T8Hb1CzLQJoRNor/6Jbwd4msD2As\n",
              "Rg/B5hLW9RtMasOi4YckJaHOPIMNZqcfEzPJCn28MJZATG6HAD6YKTm5aeEFcbZn4GWYpC8mO/Eg\n",
              "u0yR7zsN3fFjWxyTM3sSMSi0nDLtmb0p9j2t8AtIpGq0ZLk0pqEGDunsh0AWob5LT8sekWYJcHj5\n",
              "QqFZT/I2aDZ2DQQb6ocA2rhn5SwAMlgwUdNAdQdpGqDMnrLi9BMvytiEqCoJieEMca6FrB4ZSdly\n",
              "kBgNqnxh1QkQ57lqFK3QM57F3CYhvolOkxxN/GL/U5dhI3r8ZN3MbNYoaw8akRMN158+41YbRPK/\n",
              "UYpY+8Te+jKM84CUc3wWTAzgalUA8xqtJYm0EIAI5lF2mTY/QSLvphaCAk9wy9eMn4RUwU64Ceru\n",
              "OM1EflQ3eYR0cgp/i2GxEKodFlXNllhYpv7THthC6lIDuAiBmxlsUdWN9ERgXom4dzz/7TC0XUHt\n",
              "Op4qQOEonI+/E9MzJqaDuaRS4AnxE4lJGShKGpBqMKFMV+ZFNQZ4AV+Gu3feVKWXzIM194sXIVFp\n",
              "PXUf7VHrDt+6NnU6R4G2F7tuVPwzq1FLhm0/wv8pS3iIIWUb4shur1qOuZzbi6giS861qXWWWF6J\n",
              "acEiaf1uzoiZdmRUBV+fIqlWfmXmGo/5TClXS7CLGD22dto8PH4GmPy6kYGAjyQv+AhHn3vrvK8y\n",
              "/bir87ClWX26qYUdrimIEHKlvhvbPo+iA0/aSCR+ht4nS/Liba6mkVlrS7O2MNkkHRB0chEAq3TZ\n",
              "pkyNgOqcDaFlR0ZKjird1djZR0HmKUgNGpnktMta9EYZZ1HHsRrTS0IBOZIf1ArZYqUhBKeStnut\n",
              "yG80zrOt/+2noI3ntzdHb1oDY0jFPrUpauaL9sMMZzzVobb4fLDm6cIXomQ8vG2p4TgVEf/sFwZv\n",
              "9CbuyRMGjVWx7JUNiZyKxhMAFgjF0sLVxTgP8VyFwxtndY+TXdJF3V12Sm+Z1M8EI6tkhK8uHAeJ\n",
              "D0KafVH1ZeeHtISE2FWug+REK6DPu+zU493RmsJ4jct++4+WroY1jvcQfimwGrut1syW97U7SfX3\n",
              "QI6OJSWMWqAAAAMAABNRAAAGwkGaIWxBL/61KoASBT22VkBDmET/wZzlQAtkJyQXxQI95aqqvU3Y\n",
              "FzMk+ZZmhqBaH5wzsuOXJ05CHO7WvjJlSvugWHjtoHKADl3EH3PPoCLt+W/iVPczngwvnoPR28jo\n",
              "2626NW/qJlPi7k9sUHAg9L9MlKv7PfNpDftNnk4CI/GPolm0WqSpw2/el/uVd0SuwI9rF5IyhH54\n",
              "rplOxGLtA+g1Tm2N5q0XbP10Zw5I185Y4Xz0Ym25uwwABz/zBOJdjBlr+VLvGBI49cXeTTrv5N64\n",
              "umS6vQ32iXZR8/0FHHAk6nGYnWLLrzlAhmdP28utG1hIjOjHGiApoW/725sVNn+f1hSBfSUqppD5\n",
              "q7zfyIaC5DGpZO9QkdjFOriFHjTycDoWPNxWadoylUzYV8a2BPiULlaYpobhxdPDz0XV6ZZ/6BPM\n",
              "30QrUsgFfjcXru9xG946khYk+BOzd+4LcSd0gSSuTmp4XqNLgvfdBM8ZcBtGOko/FvvKKFr18ZN7\n",
              "+1hv37rNs2YvzocsShhDnGHwgftlZ/qx2PVVoGi8KEtblO9/oY3WrDxk1Nj13W3kJU+mvNyuYgW1\n",
              "CXPwGAhOis6G6IEjeEdGl+rc1QCC8Qt3XEenC67nbManiYuyoo7KT7BXk18mrOoERlY0VFYRwvvk\n",
              "qIJwOQSalufWb4NmH5QH0ShgWwRsChbh4ZCd7WTYjsCkVfPJTYtWpRrm4vQvIObT6IWT+3/6PPT9\n",
              "Q7zto9/a61IOaeQpLlm/bwG32ruu1A2jLAjO6kUwM5b2IcMfqnk0NMcjqmFcMrie2I+etQCOw/zh\n",
              "NheB1f3XIlM7ML7cgr6HDv0DtAsiup988JEKkGxJ2floX08D/6QIz8JLtpUmwGLVAYP/barhRFWz\n",
              "Iky5kb6V6jCFN9ur7jBFc7nomrge3bIrR8hAqch/h0biah8v3rnruAN/d8lCqWbcLsSd9aHrAWfH\n",
              "O0mCFul5JMpyfP9kF/NJfZ1hPlHicze0H7fKosVbKsM/1me2NV+5xew6hijpzdQ9Kb3HhFhJPA+p\n",
              "Qsyit6ZkUh+XMyRh80gyVKU1lQA/5JqyhgbjAU7hvi06wKHXzUsfXNkY/6YJ0wDA6xu+AizZGLmo\n",
              "hvvFvStac665pE6j6j8Hl3CyTVNhvOWjp5aiHa3GYcEvSqmD8QDdDzB+sFXsOQAoEuWt5Bl2LQE+\n",
              "mmcJ9sJoCsvIFMREykEIAPYord8VAgDS3ldH7QBPampwCLFSGAqg+YYIWfp9CkKVEtxNkznSNBCf\n",
              "/OCHaiL1yWkA49516k8Riw6+jvtYZEbSuQTtKDPaYUmh0HstAjDn6qkmTcpx9rMNgnE4cAaANS7t\n",
              "qVb16jTNVJWB2AyUn4oSiqnexzvy3Yu0dJO1ZSIQTrJiU7n96Gs5aAp4q6k2waArsaqmGSW0ZQsg\n",
              "ezxy0WmxrVgbqm0alTlECHH2Puw+zNPRiwQbvNjbv8KDYoJmB8dsg3hlTJXNsu8hQqUE36mdUx5l\n",
              "YzPzin+SlEsSKUwrYiFBGHo56TXo7NtVd/88rHaiJhtRvBHHNweEtnMiBGNYyprwCPw+c0nPQk92\n",
              "nnvyG6XkdCxFwpt4t2jGW9Q5LUGjsCa2QJyZMGJFNAfEXDNsKNW3w0+i4F/lVA1c5C4yWIINDDrC\n",
              "kRcHazGw4CF3Z32O+Pj27UFw/77vZESeLn7FjqqmZwlxGBLRHeOSc0k3QUMnwxUSTj7jEmzfd4X3\n",
              "HxE6cO6JZPXCC0lZclPtAMRyfvfIcUKfje/xwlLSXLcdwZ7M1VJr+vJCLeUO889O6Sx2RAmMy7eZ\n",
              "COpX9z3FVEmhp5ktbj5o4Rpu7KVZ6xKQPSIfRPB/f23A2T2dXQhUALqSoYeO/Z86fhypUKhTTmT2\n",
              "RYKhdkoaVkRt8nOks7qRNmzU965SNg594Y+ddRrp1TASowUkmtJhIXxQXuZq4R7usTzXb0nENEXn\n",
              "iQQ38h+cOpwJBk7sm0+6WRjJeudNXEYYF/VHMDC/ELlIXDwgzfueQpqnH+d5LYg8oM43inO/7TDa\n",
              "Sz5xFTYEHlPhWGo1K9B1odcxV0Wwbsl+9xTaQ0mhuCLqlyhSwnRWNhZbQz9/BGdTI4v8po996zcT\n",
              "9xTh4OjU83uuWji8PzxKUQMxxJFGEa1iBJpHjBOJcBXn2TGc2WiOvGg9gjnSZoSVFXsD4/5URWTL\n",
              "CWzsa6eOfKKPncwbl95vcOI12Tnnx8H9xUlq002htEIkY1B6NMBDwFg3GRbmWx3spJKucCuYhbOF\n",
              "eQn6a1t4Ablkc5/odhpV7pmXJ0fGrK+7lI1HhKwsJfjcU5q12euAAAAJnEGaQzwhkymEEv/+tSqA\n",
              "EIabXjgBLLcHW7tTuJcN3xwNwgPgwWz4VA4guZ6stW+Re30XvD/zrYJ8tVwpVobJpIOqMETpezrP\n",
              "UDYAoVE1vLCuzUqsKiXs1lhJat6AkBe1kdhywER8mBVdMwFHpmJaoeinVM3NmRnOSh4QeM9eGYkZ\n",
              "TqEhLO42K3EXgD6fDGeVpnbMequEPeaR6JoFNkCbPWFyjTHfx+ARzEWj5y/rENhww92Z0tdLvJ/q\n",
              "5c5eRFZL/M/uVfluAjyZRj84qMCVZtqa7qjG3J7J9olQbARYAo53vw/i88O/yIOV3jHJuy1tJRsv\n",
              "/jIptTAD3WMLD1pYzzT2YwvHOa+VTDpmuZv7p2QyBwVCuBLMQSxju1aJ8WKvK/Sqoo/vQuztGJbM\n",
              "ZtBVyX/O59Nbt7ItYE8PDvKQmWkCxxgtnf6mdOCSETow9Uu55ugH8Rb0GNNxt/px+3WhzFtWxgJx\n",
              "EMnCh5tMAz30yuQ9NyxBjlk7pOkZYe1A3fNr5zgMvVLbEk0Q/smZX3divO2YPt7011VmdpYblsgC\n",
              "+NbHpqq400lw4KuKi6aCuPdSUkVHu2dOrdxTRzh4RgOKuH2NYR8/6i2W8WOE34xCzKwq9+HxaxO2\n",
              "/TVREaiEnCWNtk8B7mWrCPn9IfMEqTg2PZwkHC8mQB1WDThnl4Q6s17pVwb6QDROK/RYEKT+Szry\n",
              "YhcvNZpsJFo3LZXygaOKPOmUid9BqIwIkZ3DkRDaUJ1fN/64JEPjKx9187mGFLHSEyKWq66MCfWU\n",
              "G6AJCzJ4Ud2az4MFYMVARrFFe6aoo9AcWuFUv+5eh4HhYZaNF7xla00/NlhkQyOJssnffabgvbS3\n",
              "FaTwmtTnL1Vs4IWCNcMvF8Yv9dt7eucN8RLzQYc5XEGxTjGEnhwUQKA3pGix/u12JOiqZyQCfZ4k\n",
              "Abok0PgMoQD3l1QErP8l3SqeJISXAEPhkB6Ss/8yZa0rvw4j9V8EjmFU7kquJBbNak3vbWM7sjfb\n",
              "CnHQEMv0WcPt5sHkJp79WKKANK8xTtg6dqMdthX1k8C2eXOKRZnMyTqSVd6cLLz36vPPT0HswpDA\n",
              "RDjzTq4WczuZqZYmY0Ld5F58jbtmKGXelmdRDmtRIBNz6dmVSlJspda/+7bHjEJQUN9bX+/aRVya\n",
              "DJEolJftkAiE+GP4PbFrx9ezUdaJvA0qEpaklIDL6/K/9mrTgOkbYNXaDlHX4rltPruihsXMmIZ1\n",
              "R057uRM+Ygy91wwBzZS2MLYW0kGs/SSrLDhwqvWm3377d5ljE7JYwTr94DWcxoOmw/lyrpWu18YE\n",
              "CygXoZ69zHL+vWJXCDV5TKTeo5/W/8JwqT/s2WumfyaciaZPqeOMqGLQKn9B1UGDd282hzIMHJtm\n",
              "87abSP1sWDUSSZ7nwJO6hAqNcdrxSvCmkgSDlqitqnnt8N31Z/iAApJgJDaom1pFD6hdVENUu+u8\n",
              "/PpGLTNOOSTF90xoh4OmSDwbBFkmFUcISfGrc1ieDimfgAe0YzRZceFAnY8SCL0481jIOw0ln6wG\n",
              "ZUiFPhilBL1jukGfRSEJCPwDkyRc2PxfDWwoI5AdEEHOpO+B0dmsQcX3m4BinMp3w174itpD/Jq1\n",
              "UEv90Zc1+RNbdgaLJX9/4YvEBoUQxO8IF8qkRkwPQ43bBqW+pxx1fCb4K77HW9z73jts9oPJbpUQ\n",
              "GvN3CuJufcVvO+MHX0zLuw+Pbiic10SzGq65LRbHncUTgJpNw8yfTWGdlatlqepuDFQCbqRu61KM\n",
              "1xFvkHsdiw2quEkmouVjJsoP9gJwY1NCpqBkDRhXM0OFxwSNPkLyhknx66SVmIe9U1XsubxnL6B+\n",
              "6G5MBnS5AxCWBmqJWHlM/20zBHEWXeAXz9q6Qidp/fSsFR1Wy/ai3cbp3IPc4UVDlAV2TuMk3A1C\n",
              "JXGt/ZvCwxVOs+Mm9zhe1qP6CSC98l93rdgikL2OUfoYkvSCCgUHhOvLamBPnDmABwHFFBBhkBCR\n",
              "/zQCn/D1sYI2hd0u46CRl5BTb0wUQIxy9L/XekLPbEKTF9j/6NSnQZKqN8KWiqfSkp2pewdKme3D\n",
              "m1sDqZ2CdTuSZEn3ngMvn0tJeSC4LDXFB7D/zVyTAJge8Hfn8j//4J2dX3aAtJI/4Yup2cxNp/ET\n",
              "tcxwcb0xjhjEJ7ha0HGCaroFQwiupJXAvDqO9R1SKcrj3Ycx+Pk2AUdvmBsGfj/8ZfJjSq9mhCDv\n",
              "QRS5Wxw4+EK4alLfP8r4DXYc6kfI3IO3RdZtLbNGWGe2Gx+XYx/+U8j1L1WJP1MwxcPGxxiPS2Ao\n",
              "cAw9vmbVgzjZ2WhkPfkrvEFxzUEaZGGtb8yquhxtLy8JZvYX4sNzUWnIzBTUZAbTSucHugc/b8Pa\n",
              "8jqCprSMR91JMCVeHjOghn89axVi9j3pLFpB+XL1FuF6qxKGqF8BMEH4Nk3XBJ164hcVOwtnxmsx\n",
              "hM1Q/nSuu3vFxe4sGyzAcoWUcFn5uekN2e7TfU+R0ZAe5xff8CXWV/f6FFs4mMqlG0L8nb47+TZh\n",
              "k97vl9N6P9EiR+YTpnrttiASpcheToCMBvQsPVdKtmxpZ1JaNjwgQCJBbn7Mj5IfuvhXUtKaWUUE\n",
              "uevnidcGftGTcK3HkWwjcRsVbBv5ImewObODEixoGhPoI4GRB6hYD3MchslBXBg0wrvdTb4dNpHC\n",
              "bYOBk0KRBd8HwIHSMJe6MCi5PSpuDrRig2EgGRIZmKbO8XokKGRW5C7lqvGJmOc6o22GfdkTOiy1\n",
              "M5f4zhVsqPxO4Nhdar3Fltun80YrWsyp29aQF2ECuQtvDzTir7NDuu0nsCoVJ6Aicw/POsLMp1uJ\n",
              "RfRdUQJieEiLpBh0wM4q/rdQKlpMg9YGkuFXgX/Yo44xiysN9pKlVMjOcvJf0n05voOKqUCRApwQ\n",
              "1YsWsr4J3LCR359LjAkIZfi++AENUxlt6BE7hX86c5+z2bWo14pjCOWB4oAqV9bE/4bI346DQLc9\n",
              "wFO0AQhdDOVz0xdr0GBgrkv0prXCA8jm0tSi2rXI7rdB6hvcDNEbUK3r9JPIOi4CDnIqNH0BYrmA\n",
              "aHRR+JZQUMd08Hk1225bm/8IQtYdWkWjbsuxfFeXdWM4kS1C9n00LWJj4H8kMytpcG8xfu67OQ+W\n",
              "3YY5piG8LngmREA51qEcQhtMvxtaM86XLDqkCs3XJj0vzP4NqbSka81eM0iHwkQjpJ9dhp/CbBL7\n",
              "iP6IDwYLS3X7slS5aK9ZybXjHkPACiKgKqjT+V4fzcuH0FKW1P3DLoSnAR6NyQaf664DPwAAB0EB\n",
              "nmJqQ/8ALmUdUAHFtTAVxVHZIY6a7qg9/tVI86bvlOiG7UMtd85lL0RVMiJTb4ID2CcTGivMEJ5Q\n",
              "5ANDebTVjK2QsCDyE6vJ7NUYFnGta8bUvx+/aevRiMN3xZCn2z+vtKtUv9eDCgnw8O1NVbKo9olp\n",
              "jvwBpeK1vPAZFLHkTj6KRemwhOCizY+IO/2kLHpuRz1/7X0LraBMwy2SIPr/XK3cVw88w+02CxMr\n",
              "RTbO4FS6El+My1fvrkOmBbRFy1cDUtzm9odxFrnKEDHnY/Ta1DjRzqnVcfqA3P2mFwT6jk7Ay19p\n",
              "MtSQ9dawYQMS35WohhpTLsFLMljHSviOAU5Zkf4yTRA8yH3NqHS5CXBYhFCncSYVCtvfwq4uK5CS\n",
              "Q2mrkDvE24SAhr0SMtmOn1XkE/8f3JPfzp2l3MbB3lgUNkf5fwQRWUUbl0ipEGq/1RW/Bz/iljz2\n",
              "yP4zO5nnpDZoKoLip2klca+23gJsGEjZ9R3v8baqA7VlWqj+yVwPdV7w1NglVe+QcKwanwsNMbr/\n",
              "ya8jIIBnJVzzDG2STAUKAJWBqh4T+qPWPnrUUwB6mJnwpQ0e4QnZAQXFZL+iCbYM7ih9/5/CEcTW\n",
              "CASz+H0Hk/LLzwCYGJ3Wd9q6/oWx+e6eZDaLVpLfhVn36HJvBP9Ky9X6CQuWcSLVYn0wAV6DoaEl\n",
              "jg+Ukia/zp4dNiCE/gnaK57kKWFZQ5Trx/JMKNzgdIi2ROmdfXS2bN+d2Lrxt+CNUW6chFSoxtwz\n",
              "c0qOWD3kb4e4Pj1n/N+A+MgyBY9qY/B95OTGrSnMr4sWuu3y9Z8LWn1Znzmre7xQrygH/9YC6JGT\n",
              "puEjJgeKKKTvsbfagKQ+E0I4PVGbVQB5TF6P4Krt82nH4OtbegrdmoznPSUR531pS9wIDcv4bwf9\n",
              "dYD9RoSbsMLaK+3WjmxJt6EUWNpMz//QmPh0fJY6YTyXv+H2Q41MFUankxYOKNvYS1U7JR8IWqbc\n",
              "CSu8mdKY/q4jmvOfkb0jIx30C1jSbGt197J5NSnenHqJYRzOIM5toiVm2XuGC70zKUdO6wQPm5ET\n",
              "0xqirLx6GiNVQfdndESO2/HWxXnUxqEoNXWkrkeLsvBUVLAZnrZuEh8bcP8Qr3NZm52/YOD0tb/l\n",
              "MVFLH4vmh10/Z4kAxFrM2K4RD1gZrK7mi2pVZsFx/osQSEJgjdiL90gy8GidLmYIhDSZIBOvwYwQ\n",
              "hA5Q0GPadg5FJ+gX3n2wwTiE/mCPqEemjPKeIFW3jPL4zv3ZZ7yUTj89K+a9gZ3Q6Ow+9VV3b//x\n",
              "zQZtWq8//iWqybMc3X097Cr7LRIjeVh3lgGu0m6+/9pWM/jwzmpghzuuaHg2tdstI5tDKnyUUmZx\n",
              "FutanwuLmKIt9R+CSVvFK7q6/VAnA/oPCZ6bOXk88nULe+RQiZ7utI4qTFfoOZQmY9CgCOJGg6Ir\n",
              "WZU/vFErSzxebs0zPyuCEJgCcOUpbbyFxaYx/C5C0ouM4guJ0nwP1wUQLmgkJ+pZqOqYtxEwSxxd\n",
              "RIPyXMRanBvP3TlzWMqj4Cu6w5RQEhPJzwdXQ+od17KSQdEu4UBHjRx52wjRTDpS+ydlf8EHooHy\n",
              "UOtkrKR5uBowPq4ft/++tWFvJD+ED/DH2Fbk9ohWVp6/jOs4ocT4A/+jYLGDzl9PfeF2AWh/bUoa\n",
              "nApXPntQc7V2I+zeSj4E76F9fM4F/D6m5ohKO3dK1qeROJehHRqM98vFI/LLgp2tVNw5BjLLccgw\n",
              "MxCldwRDmvOKo72TbLfy3UShdLUSCAlM6/esGv9dsxzV81DvlwMOeLp/a66FcIusSl/4qjeADers\n",
              "zslMYAVNPqlG1GTxrczZ06NbzmSi5FQ50zkljDPNWqzMVyToJWQpj/TkewLAwPDzYcJa7+SvbQK3\n",
              "C2DqijahxDQx4W8ShqiHnSn5uOUe/XwyEEF/XnKxzmrkF1RSfYFp5Fwe7RPJqrOWCPlNc9+hGvkT\n",
              "6AE1hNEUvnT1W/mRber3Bb43DVaRtmrVWxYLel8gSXOJOBnhLQ4+sn90RgYWkruXwqHZ6fSpdeFm\n",
              "QzY9Js4fbmulwdCgMFV/0Ffx4a9Wnkt7Kd+p92qgbRVFmbpsgN8lX07fnYe25OnZJiIPEN82MStx\n",
              "x+FuvzuOF49fgELqxoVRCLiIG8o8wsd9yGTz2+dZ0zjMR5Kkat7IFtMWS1EkCXH7l8ZoyKPEe7pw\n",
              "a3oEDf/ymrTN8mTkwSSFdkb1sQy3TPBki2vLyD8ST2sljhtRF8t1ZdIdubxq4wiJlynxFyscK1nj\n",
              "oahQGl41N8Z8eqDez7bmYvdcL5QjGd9M3dobdOGtS6UCpbvwwdcbJUv70ivyh8N1nJnDGwIL0Vcr\n",
              "A7cddvqf5CVHo5rKgfFDatSI1gDGlP6CGxCv/bRui7T//+i4YdeipYwStKubuAu7QCAKXTmosxMP\n",
              "Z5mHJFU9wFknNqns2i8gXQaRAl7t/1w0b4aZoHXH9IAAAArOQZpkSeEPJlMCCf/+tSqAEISYeRgA\n",
              "W647wQOo5+xFpIdtI4YuePPD5fbpqE2ikPf4vIQeI6CYUjqKcBZuLupqkdjeJCFpNbinhj+EhZdF\n",
              "YcIQ+p7Eqx0y08hvKnVI+Qz3LiGDGnMRVaRAm3mYSif56xKNnnuhDyHCW8w9vqAtZ/+YjrYhrYpJ\n",
              "Fz7JVQpwPxMBajJMsxzZSjNUi0ttoSwiMzaQOhRL06cBoVl+q+KFkTdwBE8OYsUTEDznzTX8tKHv\n",
              "ExYda1EV0rI2gtp67YmJ43D0WDj11bAHI/SgMThYXEnMY4K/BU2ZfqRO5wFLDkMjYgsWvT43FJpt\n",
              "SdZ+HV76Y4QJj/Yl2jmMlqMXKHFDEFRId7MtsV8hpsloeJEaAYkgxzt8lTgAl0t+MciP2uuEwXvc\n",
              "GN1AINbkFf7hM4hGg4ToeWV5gjJHogO3wxhvNfTqw2SViR8yx/140tjalRoNoelQgzsgSV/weWhQ\n",
              "ixRAP2my05bze+WyqFnagyZO81e/OeNDYZf5c2lLNavxlN687LnZqAS8M5cPRYwevJ2ESWjsiyMr\n",
              "eCdOWRPhAajNhi/jw2vVlNgUMQhj0YjfOwE6M5sGykmZOIw/G2ZHs0QBbuVs3ud+4XURaZPjMqwY\n",
              "jRKLvMKP6xOMiCTJsMdgBFXZkGdisi8XRg6U1H68CIbNwpwIXD8BjUTXD8aIpH/v+BVvtXqp9M+m\n",
              "6/Mcp39kyhtK86HNb/pv92R/W+xMuOTkIdWmFSLRdZQL8dirM/Jt4V0FVmiqaCmdSeSZDUU9/V01\n",
              "fs/LicjiYhylLWvfumVKVsiNV3KfQpeF2vB57VAxQm1C8bv/vtbRDutGZEBlr2pVAThabZSaPbgu\n",
              "E/P9QIY1dA19hLyKLK0HjVn2dbLrEtq0vT0jwhOdhQOL+iZ/EgBM+4DVlkJ9Jn2gZR3h5jCvYlc2\n",
              "jThXp9JWPuOAuviTr46fEHkQNg5PHD4dJ4UIW5PJTddcmJaLJ9+lLuTIvz6+aH0Tcrs/EkNMSUQJ\n",
              "d+o6ZPkpzNJ5kFh+jPst8vs3wIHdhyK9TJ50JDLx466eeySR/vMvN58Joa9+hGVWqJpVAh+IcqZ2\n",
              "OKIT0jzumFFGpvvE+/f3WAIih06L2rNRdQSRUQOh/CgpSdgfrFvoC5er8zFCCjRzE8qV7mlCNr/6\n",
              "BT1/QshDInk9rl2Sp4p/khdujPEnIIFjHIC+C5xnpaa6xKypYMDBlAej/tuiHBSer1+qkjnnz+/t\n",
              "LbbmEfYRQJAhRKsU4c7TeAhJgIuyDWwUXgr8OPXOLwhbC97G9yYtZMI82FaY59rRfhPOBmkmOA9N\n",
              "nXiuP+PnPbb19T86TqHFyZD5cMfSfgDJB+p3MCIvJwMKz2yqZtMFnjUg5VyK4DrUZD44ZOCxcpjk\n",
              "/Rl++UESgdOW4AmVE1BHelN1J5pdfGgt/knQzQSAfLWrGbTpyW+YrKl17Ey0PTsmGTNyXUguev+l\n",
              "MCT97a7XTF+qANf23uyAKL5tNyjOpOOKYT36DY8VFEfqkC7/DIqBQJwwtOeW3tpVANxgpj0E9Wdx\n",
              "fug74ikI4FUys02ZPgm/BrBPE+Y6ujsj+HXd7mM4UmLkbyIRwsAmRoDv9LkoEUKx47vRL8Vyd/lA\n",
              "2z0cAOqqtSm6K0hBp5qur/QYDdEyKk5UU+71LhTpwAtM4Z799LIaPokjNROn5oZxFvX4yRsvJ6gW\n",
              "lyK2mec36vTIOmLZLFSoylijy5lBa23uY4D42wD1BSTptlxz3Fa2uRzWrYb366WaXJexxDC5m1w1\n",
              "oj2ngC5J62oRc6vrsJHmEK84YPi/k696kHINwWispPn9moVBPMOE1Xnmk4guV5JbDmUXUtit22yn\n",
              "WKmMUgJcfGy149C3mhCUWlfJLE15Q/hFxxW92kSZ0ss5KbBNd3sF/WXVFq9j9k9CnnJ3u1881/wv\n",
              "AuFzxQlkbKNFBogPOwG2fb5gDEmhA7XiP0SjcO3hMlzp2MEp8LlMpRn7TTqflxw7vKL6NdMGaPNP\n",
              "ffrmC2fhoobBY2qTR8kOb/l+nVl8UsrVXgN89gEPKZHdopS3Y4JLxs+hVZEKXhSVWodFdf4BeqKo\n",
              "OaLUZRFe/IZhbc9vh/ERQTviqtaVjA5QZ6jZ+ce057AmBzt14q3i7vvixznVQ+ThVUyN1fpeJS/q\n",
              "TT3ZrMwDgBReLL9XDZ0bDJOAwphCaCBcDXsAZcOnp/lcyQWSmkz/mi3nDb3Kbm376wFs4Jvy5zDi\n",
              "7sVB1aPXR9twtfAkqI1s74wCFD2vOtKrzWp8Jqsdjm0yy+NhJLKEISOrsqpuJbgkPPKrah75xbpx\n",
              "9mDVWtDAYH5m6R/NyZdhs6qqDzLqhAoSQa/ENHrzqZBwMpx94uFXiSPyZQboe9O39lbpSTpTqKcw\n",
              "mT2dmCY0LnN924lwc70IpViS0MpfAFvOnimLLlyK7J5wELSFA/0QWR1ACeqrD3dJCIRUr0sWGcqd\n",
              "UfFtRX+D0xzGmjOJdzHFRCvJdKiMSZyVxdaivWd1ON9ATfIROmE/QUg3zKUY37hxrVwb4Gff+Lqq\n",
              "2Z+N//67BS28/Vuqnt4AXR+Ajr7JEbwqHD3LBVNSYn41htJ9QVK7EfypHrT9/o9zFM5meh0J5Xpv\n",
              "GTNDAZyt/Ljl/MQKyxR/9VBut7/ZrJcyvZP6uS/MMLSAfFkOj02KEWSk6F0lMO4Z9HhnZXyzpven\n",
              "tOTIfFX8//2U3JmdMoao2U5yJdjSZc8qmPXM+5jsrkCslJQTmXAj0kjkE+WZuNH+kUBOuTNqJz1V\n",
              "Zrbx/jP7UUnxcvsZC7vEm+FcKtGcGG6dHtYMBpj0aCVmXatB8nfFXqDhtDT8ADl+JdVJH+ECttUG\n",
              "ZHeIJGGmmjtDvalRRjqT/k4G4bkOVkNkq4Lz9XMz8atFcznHcS2qKx+5MBoHvrob8f6HTwhiXvfV\n",
              "/5abjt0yspPpPbK+19A9V1AZJr/Mo6VNamamwd4lqE7RkELAqWo9baZXC5OGbKVGZMExfi/PD+QL\n",
              "fNj6Vnfnq+QrUSdiPa5Ni8Uc99k4PVh0wYjFq2zNFXpdb5vSX7UwlhOnnSU9uhA83G9Gf91o/41Y\n",
              "bd7ANBfWGGMER3MMriTttAiLj5nNg4i9o/LnOrGMmXLOIDis0X9FRJ5wTMc0MfJdnNMcMJUclxfm\n",
              "jCqxl30aYyvM6ts+5GrXWn54ro4a7VObP6qYrwBYus9hBTRQSGOxm6VRvvwgHkaNJakhiTVZmun2\n",
              "4qolMGmxb6QVmfwkj6rcFT2qiCompnKGjbvRuDYb7L6ZwUPEsIufm8TRKjwnDRoCwQvQqVxlMoon\n",
              "p3Qp+K2UfJrhEYzpwNiNbDZEw5NP8i26Rp/47nN98VJpcomqBYCXBzI544BN5NpIwo+sdiFbEdPP\n",
              "jR285eXYecqQgzp3NCy0YCF8XtZCbbWOeqRQnCyIf61WWL/GzOqXSQrBkrdZ/tqrXhsdEyHkSqQY\n",
              "KYnSd3l5Vv10Y/RCp6/8hRl1X32hxUGiwL4Gx6W5yGE3Z/Fo1mRIHnDuDWgh4o/w0HztGHHVA5XF\n",
              "Px+kD+zXhVcj36jsw7VsW9tnxgJR95jqVmOcd+vFmVfNAPdZSpVm9LXtIH0oCOSLbaMfXcCSnrUj\n",
              "M3W3c9Xq8TJiFC9WP5NiWG87Cy4qzvg+cBcwGCfIT/n9ueusoXdrtzBxf3+K5URz/SQxXgmiC0SH\n",
              "aoX0V8fExWkvAAAKPEGah0nhDyZTAgl//rUqgBCKRqSABWzgQyASRDd569s26c8p5cEdl6qnCIrM\n",
              "Yo6dhqlVveS0NiNjDWMiHNiQYruejgWc2SKztp5xKRiFlzHR/bbtfEImFwNqEUT9yHwKa/5G37ql\n",
              "MQYM1okMukRQN9xgg9aPtK2EfjcaOmLLHOunmInuCU2FcA6RazQMe4giCHNAZgcmr+V/LP08Jnfr\n",
              "6LKiue6P/zJECOC9SbsaSI/phbmm1eXGhhAx/V3AcObzlKfPi3L1pd29SVATh9DyzVp8i8Ufnz5m\n",
              "qzdr09gi1Hmde0+p8xqdpmdGielWcE3wrnUnCBPtWiUdcQGiHiwJ0KHSue8BgeIAHINhKDQAF3jf\n",
              "xVUVROudqto3rJA7DtaQmVFkLy+RRcibQSEq0EAR4kujEiytykCzCYSPElOMGruYUB9Nkp3nTdw/\n",
              "iXmDoND/Ck4htLh4blMs1w+b88S1AizOFyahFtBLBj5fdOv+IVh9U+smYUjSntMYEYiUFo1g9eA/\n",
              "WyMxyst4dfU2k0RmZidbTIKYJIWT9Ptm7zpsVdvwVsYlECVM0Lzc9QXCnqWPuAbmPtCMtqTywQ31\n",
              "MenmhoSPaHHFgfJjsYTKauZb9nkZnTsnq5Ant7NwrCq6FMHqf4z8D3B8h/ka01uVZniFN8EBXSex\n",
              "ZP4Ynp8Q2ouPr92Bqgf+YNcGJ9RL2nzI/hqBFU2CnGLXvUysF4qyYJhRDWbbWIf/SecPZOzehLY4\n",
              "TNwFMODcxE+6AHi0DAPXzMMz+TnfXBCJPU3/vNG4Ok8dBMtf4zIaWDI/c6kQPzE8+hTBGUhEJ+3W\n",
              "gKOnERa7GhpKHKDLalO6MoHF/IxdAkZcY3eLes4Z1q9QiIwB2L2xv7E+vrRd9eRRZjb0PvONHKbp\n",
              "wPORebokNAhDP6a6C0GnK8HC5D7LXTi3zTruVzB6+FB0AsTB65YLBezxz1aYYHFksqEJjFV6mstC\n",
              "sZSJgSZxoasrl/DJo8DzVPGHmosFhV8LB0x0QdhuTz4GSAsRBg7aVgAyjPMtibqZbzIby7Gkp4JL\n",
              "RW7YzWfRmqklhxOaZqIaHvUFk6qoVNHDI5MDXjLuOzz5QLYWonn5MyFieuqptiSXn9brGzjonaFn\n",
              "Td3NawOusvOev8pVJEjniP99unEd5mWVVr7iwjm1i5eU0akWd8rOJZopEpbMQuAyqqhplUTzg7jy\n",
              "zNeRA7x7fdLO7Xr/W0RvSBkwPUEKZJowaK2WYpFn1JtS0QbqZ1S5gJ4ooclApdvJloCPlkvP/MLN\n",
              "o9ipswbga3Fp6u5L8y3JHiJOilOXyxeHrHqYdBiYQMBV8KA8UFmVjbFxBjJqrKmHGdA8HQNUt3EW\n",
              "J1qM6k8MiL/4cxk9SB+OTj0X/gnNpVuD6NCP+DlfotSDGR/yzJTMfnZz2H72CEMoQVhDCwNMabiW\n",
              "fOhL8vwOziUkwYew4lwpk2cUVL2oSNmhT7MUlhnFOaV2CCiMnh++O7xVerOViU7Q+4Qjbo4+h7i/\n",
              "ApG2NP6fqMf3ALCQHpBXRgmQZsnyQm2keUXO39P4jn0wgsrNSgeA7SqfcEtUtXkmBfj/cVDkTqOP\n",
              "egvPj84ej1GgDB8NpCSQDdP9zell7smKJ8Xju9rI1LFe/N84jivAfsthTDpYOjjL6QlCoopvDCtd\n",
              "naGup04/e575rWGQO/4tyf/W6gtZywag3b6q2BlxTKNwmO+FasakARaxoNe4/BsO1Mrtp6HL/JiS\n",
              "bWZtrdonXDjg7vna68JsmBSFBVBj8wtSdk3R66yPvfU5OSNCyGRv0v6H4oDXrW34DtF/AuF0pTHD\n",
              "YovlRGaEP8ltrCrGWFGglsd6nAWY8JCDniPSr6sATegrpYhIQ7wfx5Cw89IaWL3NfyASytR0LYXw\n",
              "jqHovyUK+h6pXBQaV4nWVj8qLMzKM2cfeq7baqy/5++PrsRPjFR0dnw1dBtay1u4pmLhv7Ac/IgB\n",
              "JW5FVJqmm8RGZJW+o/gBpXal5koF8n5lIHU+aB1obOPdq0Nzw5k5qUhtHL5YiFv0fY9Mw2sT3EQ6\n",
              "Ei9sd45raFNS52eONvvYht14Gpm34PCA7DheYh+KSYe4GgorPZgQPM+gbYZ8v+zWMSz15sBDBVjH\n",
              "MwOwyTLkratzL9gjcjV3bI56L42RXlhSYvWyEDFOSwsduxdw1L/IzJg2F/Iyo8lPphzftGPM4NBb\n",
              "50Y2ZAPmf9MAHrZ9o1LrjFoWRotifpXViqj+R55NB0JMUgP0OxN4PVmT4zLmFQnOle3Lgxl07yHk\n",
              "2IZfnFW1J1HybCSfP9t1XRk7reF6HNJ5fc34wStr3FwVf6mGExNvBKS7Sg1i8qV6XlIGssYTKr0Z\n",
              "YgQnedYPeEKA05VCI37v9DOtKnPLdYouSd9SX48u8JGoJKfFgVAWLZigjlung480HDNYUvo5wln0\n",
              "Jbr3zbnfNXIAQ0PMOLpX8oCSTjuwnJpxWLTqJ7/fcViRDSe+5ioQsSMHDnvRcUFAjG5APsAuozoP\n",
              "UiFlEPPvD2gWfCk9Z2bDcZWjxXTy1YJfXIb2x8Iwz6tmk7F+PvQoOqS4hnBNH6Cj077qcyCG1I76\n",
              "UFaKfdxENUWdqJ2k68F0purp2kfzNahvNVM6RMmj4pGTby/FHWmft/pvBGEfNISVQsdDb8+jDx9X\n",
              "bWnj+arEEg+vhpFwuJkGkhX2p46Up/xfqGwSSwi70sOYo86x6py6S3sVi4+ZiqZEWykkCwZ21QIQ\n",
              "gMmOFRB0OXKsRrw60RQcouEXVnq5R73I2bk3DOcjkD4dOoGh39fbVKrKagzNzYNMTL7k9N8PIYhB\n",
              "bvz5nRLPlB0wX/xtmQQB2TJtyLvPfVX4KzDlMMa7sltiW8B05PtXL/UtCCkXj38WYazZpFjh7kQH\n",
              "D8w0Aepu+OffRFtWkgNw7iEzct4BeJS+ruPaKqlJddCI4D4m7Dh27qKj5RDRsq38L62Eg/vgHilO\n",
              "s9r0/+N9x8x8Rhqkx1eEd4mjHKTC8tpCXRenTG7KwFDyVB+IX74aVihiIAV1cp8GCPA8PjKHuIBh\n",
              "C2SnVPdN7aMqHbJeE/ys5vEd8KhXrcmueVM9pmUCjZFBLsUVcTXc9QeUbO+6es3Cy4t6mUuaApDD\n",
              "f5NYn8BnoqyCx1gp1T0EYDdUCAjwrfPzG4zUEoYTaZhMhM2eYn8y+DrpegDS2xAM+iJNduWT1v21\n",
              "2HBFT5rkJI1C+lZW7YyVjgg1+utJyqqSIVgAuFUwUqfKrZTsG2n4n2bfEpmltvvSW1Wf/0uNw4u2\n",
              "joJE1Byhe344/OwBxE3PHbmeqcuA9Kt4D7nCKosR1cRmlUHLXTujnWmAndKzAoD9+zbQqnh1TtB6\n",
              "ypi+ljTaF5pDdtj9ydD8xRwwFYPexmB9yvV0wJ81HV1aHYOaH/n2B70Ymj0wZBTMDIXadYtQlJOR\n",
              "4xYSiVILJPEZ1HzUG+3X4orowMy76gbj9PPQW6SfGk+s+r3TWZnVufD0efGLLCA0N0qFj67K0m1s\n",
              "AHYdo7xPOfhNg/0AAAbEQZ6lRRE8EP8AFPLWEAAcWr8qcjzGsfksrLOn3zOeTK5Ip0/1gjuahyaO\n",
              "nXza3tlBYvEq+h/EkuEYR8ULwXriVSf8fmZlieV7w4yTmYxxBAKk2UuX0oMpIVOOaB5Lf4drNi0D\n",
              "Abb+vqn876pQFnFAKvqm2Lr06Y/F7i5cTgsW7DTxH4rUS3OKFn+8d6Uu4T//KGlxTREa/hk9PItz\n",
              "X1G/Zj9z8hAHU2pDdYaFRfs1mFkEsRrOOyBh8A+CZ+CrgGQH2+fDi9TzMpLKrvIACcDKYBQ2RZeX\n",
              "93bpo5aw8cwQygPEObXAHf3N81MWNDCUSWkROa7kisv2emk+x08fjZowRubXSZGbALmaLjJgvOge\n",
              "ZaH3qjwrap7QQTsR3jWZuCyhwHONIrqzSrjDBAzAUpaqvHh77gYzivsAMKByJOkudkgfStozpRoi\n",
              "X/wMyELhazF8tNNFi1IEzB/ife7mVUhqoD6b2k7PomWSci0R1lGjbnOCGM+LmYoRkWxi0DoPkiCb\n",
              "ZDBBCJXKhGB55G3ihs0atmsjVMhVwectOn7V558xjGEVYVn/6Zy2YLbT92sgX4WSlhbYAFIUOlyf\n",
              "iUsO1umJL2a5Cv3v9g3o746Z+JbGBbD2ZjPISIaLbLw/TVISE8Rw8XKYPb4Ct6qc30tWFu9wnULE\n",
              "RTja5jnSaqxtUhN7v+IUpDCE+s1LqTWjC+Lu8Yq/QZsdx1B0LBVC6EariC82iN21lDyEvgd6t9lg\n",
              "XeyqtBb2CNPG9UTAEOaXP0oYRrKd9wkfeM/O4y2GjZWbyhRIe6vcm9ziKdDZ3w2hJAlkoFI6hce4\n",
              "9dSmqoQhbfotGVbQR0SwRFqu3lRXozNkkR/2K8iaY5PLLneKy5iBDjgWBHqsdBPKdfafQYlUQIGW\n",
              "eElZdzFqbWe+fzIf11KYdXf+ylSu+1lp22Uy6cv0/xeKYun2nrdWshNQ0npqQc5XTjh6DGm3VQPw\n",
              "BI10aFycRXMU5nVkJIpL130QS3EG+R8uKDQ54fhMKDbI6wcdlVIb8phDt9fq2OJgpjDjJQQZ6Qcz\n",
              "qWDyPrn52cbyms3vPEjDwf5byW8B4r1/8wHfRwT5twtKQUqbUcR3g0zpg/uRpIb9333nEw5AXR0z\n",
              "hwHuhYwNCvqzrTiw3fscIFhStBo59oH+f1i2gAP1fk6xn+kMcLPmRCKt7W/QWMQHQ2JNXHOusUZC\n",
              "gsZicJD8nKBRu7CTT1/U8EmNR4Oo18JdQa2W/VGWPq8oBL5xe1wg0BJS3AfDIUokAf5XO5b0vEJ4\n",
              "hPGUC5+L8TTL/V276gGCzm9IPMJ9bRwj00GNFppKSgS+ic1HADPeaSnAzY3d3Tj590qETiRnyYPZ\n",
              "d1FsRzPq7CgoJePOEJGIifBb0o/XPkLQ2CLcgy5OprkU88Vr7D/fv2yXOLkIRtwHLGS8sGX5GGxx\n",
              "Trq5aIipgNgFJ/fHbMb61Ao2U1hj1jtfMRGcbx7F68ov/dK+KIVnkibLc2FUiNSgqbDcrh/Glji5\n",
              "giCWpM6/gUBIcEtxGbhAN4cqmCwZ2mf5r15WoqNCv9QF7mbC80IW3QzoAqfBwCnViK5+cdvkk8M8\n",
              "dQsYTwJMVciBKaKb2x1WUteYXLhKc+F3hln9q57Sb2pTfkF8cj3uEJ9yVL0Z6Oq6ED6wnCBlsBxM\n",
              "WWNiK1gY4+Hs7t58yqhmkenx8xZtxvH93+Nleh86qh2CKRhrdlt3GacNE1WN2wm0qYhDSKGd+64+\n",
              "bQHwj5YxhfG1HCZs6b5p2f3D9sGxzAuaqcAB+V6XVwYGOOhzxghGSd9fc/Gn+iTKi5cpUQBlCjgX\n",
              "XEVPWD2p9WOuwDNJ5+zWBlV5yNsbwq21E0xceQsgfcY5+WIEJKDQY6jAbCm1Qjsp/ogSNjUUr1g1\n",
              "bJLCyf0h9u0XMR3tt0WE1ACP0zCbb+1rWxCFyQIZHnCTJ/p6zuI/b1EfE7Z8X+RACLeAFNj50+Zh\n",
              "NtIfOTspZpScxCMj+9STFzPstVmWun4g7oJIcvJ9mh2PuHCfzodOS7iW5PrN7JgrI1MxKF9lP2M0\n",
              "O5d+VwW3Lqdo7FGddI3YVgSL95Oj30np+dh1sLRhPPk2BI+t1Xo9qb8Ysbv/qy0NmH67fzOGVIjN\n",
              "z8+iz9r/9hgxDsXK7mTKt0SjBRlMi+eVr6eallommzAYhsMaCMFZ7b04ZPuHacevNCeIbvl5lKUh\n",
              "QesE4C2vG5cQzQmb4psn4eJXNlfzwTB2RxZx2Y4Bsbqz5YcZIyBlyer0z+k+KyM//7Oi4Fa+eju/\n",
              "iUyMkQJCo+UIDlVQZ48jDO/6+jPhLEgdSY4YKU1+EEctE4JJeQAABRgBnsZqQ/8ALd9Lp4AN0HMP\n",
              "pA3gF9ikspsFrO8+2YxSx9kV0lBS5nV1s5c1fZNH89sXF0hqe301A+2f+NAcoFFiWj/8FMIBA2BK\n",
              "RssQ85F074+WBR0Dt8FCQNHlKVaH7/HECRrp5cCI3gU2u77qrQxTvxFpDZ6cm4P9fj0okX+/sadu\n",
              "SdJ3b9tJDRL1oU01FTa7VbEl5zfPIPm9eTXcHUf/pEJPjd3xhU2jMFPNX0mmaV/EpLNmDhyzrkn5\n",
              "0mGgaO0p7llmHUbeMhEALn0MQgTLjGfmOgwwKi6iDJbv+3tkbLOYp33qe4Nmh4P4MBYYGJBXQTD3\n",
              "ZANf+OqpFEx+TfsJjnZpxXV/Iq5hwMt/0hIcezPEOpbJRW1vOrVvZcO8nH4FRZBRYzyvpPRuONBU\n",
              "agv4BzA4RANqf7ROLj+3MhnJRsV1XBZKNHAkZ+5N4eJmmZ9BwSwh5fNtlX6BOmg00znx1bTkitqK\n",
              "KaLyG580Fqq4pOxvfLoym+w/MAgewnE8FgqhvTmNfCLRrL7k2mEuXbtZb2b7Ew0hwFhkiD5FeCjw\n",
              "lJMrBPHly/0zzp/P3GGisq1XkKXD9ChqtYCgcv+m2GaDm8UGmXxPHY5PRmu/pHsHdZ09uNdElCyk\n",
              "08TJ76rnqLMWAIf9WKjSgFCWES6yxaYx58dT0/g2Cme+oG1LmglKyAuPTkjl5sM7yc+4v90jUlvD\n",
              "d3uJXmhqGo7Kx+1aqYIFTbr3A4d+eZ1FO3qkkIX4wt+wCS/6lgaZZ4FhisJl7CtckiYMvDfwKy3q\n",
              "yZ6vF7OKvOdpdTp35Hg93L42qRC+LGJrBcNZJeMfdzy0ZjLpGV/cSKvdmWSHk9FdaOwS8RECmiBL\n",
              "Da+C5GBExr8UeiXRS5EB4I+lw5GI4JMT1N46VZUFynmSjPBoeA7kTPZIqrxtUm9Z7i9i8IlgUvWS\n",
              "r9FR7wYzhJzoNt8G10oFUwaTLAeqD5QL1LFczgJmyKKaMPzna4+yQvmK6HFA/tMkK/mDud5wvxb4\n",
              "TyDEkYkM0vpFFF8JmvNHkeHsjMzl8fwgnBVEKHWz1hAtyHVEiXIyZ/G62kWLfEJ/Qwq/LD6zAuCm\n",
              "H/Ouyu4tyG2YHSDBprTumBqRewAE1r30U94YSNXJW/756GnV0VjKpxw+SCkLzQVLjqhKzNEnDylR\n",
              "cd965Z81CPi0TiC1sAd+bpdLgTULlqPo1WYEa4w/Ozdti1R0qX695w+dk4QfQOgdLhjT1Ozmnu1+\n",
              "TkW9KEQozfZNye8u2hVoAbxnUZXucLFPFycum1japZlQKNKSTGPhI5aDQBaQQNdthqmDzJwvIg5o\n",
              "jwTcFURTIIJE17VjOeMh4lJD2Q2bkHQNWCN5jmFrPkg/FM9ozxdh2wb4xO1annLSap5cMj3/7m91\n",
              "wgyUORWEXAHO1/ezTbOxXROdjRZu0kqU2Lm4FbrF0hksWIL0FYUhjh0SjLi6Pln8marm47tY7ZG0\n",
              "l+N5Ju00PILa8qkzCTa5MhRllYcx56f+ckwnYG8UGEHV+Vn5209oYJNSs07oI7bsnvUlG59LH4vk\n",
              "so5vasCFC5lbZnXiLDS6El8sJL7pI0OyPvTqL98a8zOizh3+mzmibyAa+Slq9cZvM+KdFGTKk7hM\n",
              "Ks8EubyCD5P+4/BDH4dYZl9vPpBAi5HyEQdFqeynQg/zOYWhA6DqjBxYrJ1sn3xjvgpiV/zWQMQ7\n",
              "r2tjXzvLU2PBhH/tdkkTw/1FhqfJAC5Oz0g175q7FhAEXQAAB51BmshJqEFomUwIJ//+tSqAEI9g\n",
              "7oAFbN7QhX3z/A8er47QBfBYntOaEPBcGNt/3S1anXT1gHEAxFMnFG476QbfevdBl3eTAEGmWBNf\n",
              "c8nKfLFzedIknGuniOccprKIkqv1ZOEvJKGD+5un76c2jbBIC2FKXilpV41iq9WTEHYN9sgTA4qX\n",
              "c2PTeOJw4vL4KSySFS5kDOsFFH9Mgda69yeCeU72OASc5fYvKXe/UCd74CBIk9AK3IbmSYsFPj6S\n",
              "IUUs1dmPaaSxoya3QgPhfYYcJMcpdmvD8aqnaAUi1QmcABiNnuUOp8MTNWyu24RWzXmbsluA/3Tg\n",
              "6HM5No05eKZjY0GlHW5yasEC9QfRNKST6Ovq5HOiUSTo2rMfiRfysN9N6tL4W3fVeby9nYlomA87\n",
              "MUQUidjADF2vQThkqxvOv8dBzlLCA4Pamr1puwxYUtVBzA8UQCb4fzSHWqF838zj5Gui+0bYpSoT\n",
              "M01WTiznZWC71RTlQ4zliS8n3m2x8ZUDBo84d2hBW4QSsw+jwcx7IgaiQtCXwT6ej1qnB+nNDh2B\n",
              "ZBTFWyay6wgWmNb24FDC6LRnh0sytD07krGxp+ul93YhJVOmqDm2onWiF4OF75pg1dzg0r2HDF4x\n",
              "x55Q8wuhuxV0lT2/KyIOXsVvoIIwdUV4XSTB6dCERfekYT3eIqzhahBPWQBH34vERBMpok7Q6QGR\n",
              "71NujVR6w97ymUD2anc+5Zv+JOsS2dm/5fwkhBQIUWAdY1xmnDmlc+atxyLg8Vrm/OrMKHej66Ym\n",
              "p9qIkhiCLQBAjtExd1upfyEe7ulD1J+5moU0ltAtfKVjyZYh6Jk+23h8hLLqfKr6N/zLTEfs7NjX\n",
              "SlvXsHRMmRdCu5LWsN/h892RlHAKNTumnnj+FKI/JXcalaA5qiCDp7L+tp9n84RGWh7ftafGnvex\n",
              "i1hjS54n8y5gIclqQvdGQo063/IHwvh4FWlaeDDvbHj/zJ0RpH1lbCJoj5qWIbXKGcr8Ss7h1FC4\n",
              "35A7iLlPkVw97DmM/MPW0G5GUSwayFmm9kJEJeASHhtWLwsFVnlbMHiaeVHip+MMP3JWp7rvkaW/\n",
              "DqK4VnBeGSFk0MOfBvcWz0eF5M/WcmvfNqXtnOWgbRKT8T25ogBf+IcH0i/ogWpNzyTd93QD4r5B\n",
              "8CqS/OC4aXNUWpTfFNZRyCYUk83qjqoFozWH6TEoBoVQNQumru3DoH1eS9dGjwRyPt+ssWA9jaOc\n",
              "PYJ2tK2uDB6yhm8Cgj1IJeCdvMc+1ASBgRImqyolXKWK18Ztd9+UKHoek+tmFIHNlq/ikXOzmsRj\n",
              "tasMwfcYOo4NA+QpzjkMaACKepvRM4m33O9pGtHqYasyhbhVWN7M07D3TfMmTnx8kwLLBihnvVeg\n",
              "nFHMjOjaAcLi2HLfe5TEjo+4mKUzkF7Xmt6/CZk8Wspmz9oadGK97AxYGdBJtBtvZKgHBPD/yy9/\n",
              "io7kOnXPK08+73VtXIHzSHFluX2uvOYcUMKJjoP/20eZG7t736XYH/GhnokR7kc57UbGFeSIJLlX\n",
              "L0d/5wc6oVtcbn3RyVLzua0FdMzCxMnzsDa9y6uelR7N7Qy0n7fvYXY7/6mj3mOZDdCtyvrJscm1\n",
              "lvbYfV4GZZVQ8MvIU1WTINery8vwEmwzmT2mywmq2xZqEEd1bGRz/qmRz+3+eHPm1WFjtlS4dY+J\n",
              "GRAio8vw3Nd66r1AFMw4AuMIy75K2wKbLqyqWFB848QGnndWO5AOtMXSHm11wN8exGLiaLIm+T8Y\n",
              "WLYaQJumv0arHTeEZ9ThckUZOe9UO4XCdtyFryp701CwKSNVm0/M7LnpKgs6cgE2cBI1mpy5db0J\n",
              "tggVz9Wn1C9/Nk6dkrYbZIrHhZPgDsTaawnWt58oeyuOedjVgE7wzG98JPMmDORl8cFEprkHQ+7w\n",
              "VAqkca1FY94iaiSOd0RT/cBbFi4DEOc9x3VyXh1dEPDS/qV3e08O22PqVTfQbroIecFJAKjYacYx\n",
              "Ki7O8QQhzcItQ/y4+pCZusUz9Z/ZuCJukBsyEPR2XhkYDVgjZQ+67BNsRxBUOvgqVd6RUsSEvQ6c\n",
              "jx1J6l6P3d2ZpEZmDGf7XZqXshzPY4/mmL54I6gRennjFY0ZAVawPqTqjrg4HLrzZeWuuQ+EFCvg\n",
              "TNU50XzP5WFPo+I/q2xZpOEIb53pax++IQcjTGPFJlLlqvfrWNGfnvPy1cOPiHA28fLxlEs/9pLj\n",
              "NSaMqvOivK6B29kuhfhNRgLFW2oDLeFD5jqnAYgalcclUG6wluJXBL6BbjMoWZN0/29uGZlIl1J4\n",
              "XJuj9wlLDrbTroeEI4t8jz7jjIs5DponEmHSTaElPiW7B/WZFwrDzWcvyWlIfVW/g7OSTkKGCDKP\n",
              "TZZ+oQmfYENuI/Tm+gYHpkPI2AaTm2kcMC5z0oG2cfEphIYd/e2+vYAX/44r707VUGqiveBGA41o\n",
              "VcKJtZ5ZxpIsRM0qDzDieHk0Qxo4UDdvMdwYKM9pSb+aS7rJoehfgKyOxCSABT2xSREpE+aXndOH\n",
              "z/uCp5mBBzu5CB9NwNtg/xEjDHCN/8oguFxQ4QGhWLr5WVvFNh30yKSL6aI+/fUjjgAABfFBmulJ\n",
              "4QpSZTAgn//+tSqAEJNCdwAVr6vBWUg7F7D1+lJESktrlRneKx80VM9w06gAJUvYa3X34ZAA6YHO\n",
              "b/N/uy/LU/+jwvefEb0WqO2n9aiLonYLuqrDMKu6760vpVen/pM50nrRDAAAOq9Qs8uGIi/dRMT8\n",
              "VG/rkso1BHK0eYW5Sl2T0P2FnkV7mMWW65hlcG9Ill8uEbLAz4X+KX7uGgSqo8a9L3+isJyUIogJ\n",
              "dApp7py/C+zA0QbmmbYjqgkGX5SsGKeDrsBgppOP7LXu6fDQFxfAVOwjrB91hoQkLvFHi1CX574A\n",
              "RR4cVyy8v6vuGMRMBGqMVT/4EWw7ENVasrR7GWrpLGD5ygLCZqiAGT4UZKElHqeAz5UTLMP8H3fU\n",
              "69xsBgqGM4yH2Xwc3o24at1Qho7QWiMCKbJvZyL4ZHMElUc+YdB2BKzXziZgHxDkp5mgFiTI4SCi\n",
              "oAtJSp+mQMZPQEabgYMTDvVDXsft4+G3oxDfFLDdoVdtVhjdBr2Z8qYk/g0GEji/uFHweDWpqP3c\n",
              "VQOt5VR68KwzxUEKrPQsO05SojQs1/r9WgtYmGE+QeOhG1lr/2J0p+Dwo2PszjQGT6+LQAp2dU6N\n",
              "/ezxv6FaldJREsw9Z5Xi0swEQeEKOYtO5qoAmuUUGxgXwSKeM/WPlydjgEFmQXs/UoA8wM105eey\n",
              "aZpVuS0YbxiL0cAgFwRxEHuPzNO8KqxQs97deidIFpqFZ3OaKC19HwfrXahZIqmLC1exjhk6TMDC\n",
              "pjw30irqYEYV99Osz7nwGSGHGtt42O5xbFrABGPHVh02QJvJbEQQZS57AVpvtN7BtZbYB65z+UoR\n",
              "Cs/q0g6zyhAA9n4GCo9+KY7YHsh0srPu3Okt0S8ydo3PE1LwFeHoylWPi3baj8Y0hr7t3h33rf+Z\n",
              "rhB13Evw5a65tj+xqGGhyeFtdk+CL93QuNDj1dg0+mdumfyCvE2eUkq2oa7Cw5JFKjjoZOBVrW/f\n",
              "c5JD+k1wqmuN+SoBrZ4IiYOBER3XI7Du4MJQD/Iq/5PC7tssGW0k0k9SBvWOD2vNXLu00V/WJeTA\n",
              "UQ+jl5i1fOSRbKlVfk270Obd+jx13jQCJCiCMX1Oyy906NIQuAbpKjgtUhzMPdo6nI2o6T2lZmxs\n",
              "UDi6f0r+L6z4KHoMmmsGZQeNahRj8BZHkcGpShmkl7C0Pk9EJvDFKXnIhkTseWCqB2kr1LTXr3fA\n",
              "f5yOkGzw3oiEponfM7cfiypf93XwSIwXr0WM51JiiUfqqNfN/3B2YLqAgS56eqdzRYKbEHbddIu5\n",
              "R+IjBWq4AKlM0P6tW57Ws+qzN4K3eq7fr0qaqRnX6ouE/mXY43faxwCXI7pe+Ujpx+3FxkB/oLmw\n",
              "Y9NAsaIG/Lvbu6jRiX4jgnOBngE1aCSjjUdCu7cIHN6R+8zRSEqf44CiS6xgbNpto1ctjkUrGLil\n",
              "9yKn5n9gFMvkrwDxHvrVqQDq9IdcwZeJaHAe840EN9RnYU/2Pz9wc4nvegobhavLgCwU5G0BgNCt\n",
              "4DVZ/1+hflCMVk0B+/3H/Kdwf3+uKrYbJjXIdXzGRYM2K106rTOxKJVoWeaNTLCiX3H95FpY93dW\n",
              "jhp/NMQhmByiApFeXNZaSybO0y5fRwNJGKxSs/wrb/KwfYO1cfPOgJYv/bcRnXH+pXkYWqZ3LDIB\n",
              "TL8S3vRMbwwwZU+wv0k7GYJ4hbeut99e1uwB5NrjS6ayCKOPd/Ee7drGFHAOlcHCj+tAoqS6Sg6h\n",
              "ihkWmw6X6IzzDndSidAymH7mAvqqte1ALdA6pCZgjlGzYcI8Mi9Egb2u+9v9kkMf3uSLpktgk6bV\n",
              "4K6AnqbX51ENTKVHVkMshQnEfm27M7foa5WMCYYSytnx7dY3K8Ogd6eAG/nHELKy454IQNqlFbOo\n",
              "8WBb0pYi/3udhogd/+jKoblta5anPUYwiRsAXuyYfFMcoZ0SwrOFpV0+bnRJ7TapCfXrSxsFrSwm\n",
              "Yv303Lm2S2NtwvdJED67oVsBnvx6urusT41eJIybv7TmSvgAAAexQZsLSeEOiZTBTRMFP/7WjLAE\n",
              "obMgvcL8bo+r/+I7gwALq34NKCfcTqJTBZCmKeRydlQLkvek8AwU1NqpQZjc/VIX8ztWbfW9UhuI\n",
              "sCOoRqn5LcqYf5SyLBtUrRR9NTKUCCg4cWEoX09LmebuUDjqXj632jy4vz2r9uZNVV5ojEPQywxH\n",
              "KccTxOpjkULdh8JY1RN7iVJbKryb3twg0vy+QMkjE6D8i3uupeKeBl41nN5dmmHxlxfACFVZCZ/V\n",
              "IAFzboPl2bfL27y0id8wvN21re1PxEDzz6+dStVnxM3EqDTmfhhS3FqCR8luv/OkKmGOCDlwaRyN\n",
              "YP7q79tWJhSEVi2FIajHeip9MZp+Gr9ZVYxTAtdC/AtZF+iNRZYqhEPoMWdbset8ZJ+j47HQsTjp\n",
              "KV9BuiPpBOWrAXufMLsRjdADYgFyd6ZY9cPpB1wV24z4/Y1aduNJ8t8FR15cipZ34gvuf+Pf7pa2\n",
              "UUo25c9J6/WMh1kk80csHJmtr+82jFmL8vVkorxDPDtDoIlT2PFNp1SqN3YqaisoNmdSF89Qwfu1\n",
              "PM2c1irmSZol5qT68LmxJZfM4hzhiZzB/zuPyMdNpyMJGUv9/wqnN3D2//xTRGT/GLWrlYlgq+eu\n",
              "NKqN9syhzDwKWlbn5SxDQAITaDGFNxRpJcchaaE3AB4z18IGgqpfmgHKj/ARPFqs7eefLhxD0p8E\n",
              "LuA9L5ldz96SvGlgVlYvz/9x26ri/jX9u83dXEAmA5UpD/WCOY0C1d7DNkitlQFRBfT1yd0DOPQI\n",
              "bjub7/NpgI4Mqkb0EJ7Z08jsFpF3ES7lfnOX0x3PJfciauqknwfCbk3q/3PSN22stWONpLGt5q9Z\n",
              "AsO5yllHZOm7O9i+wKqaAaSJVezwKv6GKN5SzVGl3RD1MaGMeyuAiD9j5A+eSo64peUDQ4GWOqJW\n",
              "i0fwCr8ZjnFpkr2jqOS6/ZaBoccCkNtEZwE24Qd8a++v7GL0bEZZfv8eFX6QbuADhn8aI57jlbEm\n",
              "+QV26OsW05T9fywDGONjhV2D+xGL0Ltis7WJnkXb0DncbanOPO23ThFG5bqUIRRYDuBo3LTs7Oux\n",
              "LOIRa6dH4IUcxDyegk0j5HODm9AqL1fJT9hRfpKhoKi/7QOr7yvk7miiKueOm+zi7Yfv2S3VMDSe\n",
              "rmb1sqhte+yi6OYJ1TY19mNNRBuwBNBH0MQdA6gE4fHOJABiSn0bzyI0XQKUidEp3Ntk9Q4lBrO4\n",
              "mTzAdXD53Y7sRBGAb/7sfaGJt6G5MxDDohe/tO+4ftR8wVa0bTM8M1ecRjEssd9nF0Cvykkplv7t\n",
              "MVn6c1EOfnVgxpDjSpNaF9jZTARk1KhkBidu1HfgEhuGCLdaUmOeleEL51sDw8wtBdrqfwqqxPBs\n",
              "rnRXzVDKYMfmy7k7RMwfiY6yMYAoqXQSHbIFerLJ8hZgeZeZJFuvL8QoprcEhRUB0Kjo4y4cPprf\n",
              "hePyh2jU/AvwklBHzLLlemdwWwGRHWA+r2arte3Gp79xHnOSHnF1JQRPHmnemKVjtnLqrcPLcKvg\n",
              "Hj8MUmr2J1mBtPRtLsLBpLTW+eUj++AM/7StyGD4ZQf+OFP9zolXma5zB4KrmnChOugsk9B4bm3A\n",
              "x8WhifjrUusECEaZGe5B4AMsJfvHaGdYFy9INZ2oT18zKZE2D3xWkkNFnbW+SsXc9bDLUKa3rq6s\n",
              "5dinqpJy+aLeyRDZJLdf2s3HZ4e7B7oETZebGsFBQYF+pjoSJVCaJLCAJwj/lD+mgucwPZ0WBYEr\n",
              "0MzYdJPSNFhkBmj5+R2dxKFCO8HnQ32ANjzpoH69wFNrVc/sa8cWc6xUkOzXFpqftMIxhCN90Ed8\n",
              "bO6PfE57ofXcArAxYxE7dyoPRFtm8qwigvN4W/VY2F6KTgHB5PslyfKUZvJgxP7Xl1Ebv0RG3kPA\n",
              "1kd8Oq5+Thod394200o5nlSJKLleUcyGf5E8HdBxrjafxFCXyKpfbOpeloek7tj/Ag6JHi+Xq43F\n",
              "ZbtBzXzxEFhBSXPd1KDykeXcapjQ4Mv5NH7FmJ6zyf2yeaQ5kH/JRskzGRMDS7Rd1rI0nwHlXPC6\n",
              "ATpj+hFAcDUuBPCzRVnE+TyMInkYa+MxL+y49XAR6FC3gGPYQTTnIqjRYPwZ2Q8IJLOW7wrBavMg\n",
              "xQZVKNXilnBdIaG72VGAYBUojUpXDYIhp+ohRFnT9kI/Ts4Uk93PL6daqybCFPeoTh+um+f8iNvL\n",
              "Tvmk0tTXtASSNXGPZpTQ3szjb+a9hVZDackx1J1p7tLhlfXgVDHCXg/zgz5thZvXhR6F5D57n8d6\n",
              "TzvqEoSSXedKCcIYJ290NKiMxYhgij2Gd096w2Nx+uwLUdzz9b7vW3opiU66kEruvYNF3i3eUBb1\n",
              "FTnw4XUdG4hvXoCspvBAbYykArELq0KEP8bAiCfw+Eag5YCrYs5ItZX8S9+BDwf6pJFkqbNw8d5o\n",
              "9CiACWSjF6zhn9nBFEw2ZboPHbOvtkrCODw1RfeIE5ThrZMx3uE6/yjSUKecvLP8DoDAYi8h+8gw\n",
              "YZxrlBjHv878W4Gb18K/19T7h1LoXVAnJQk4nmZFRcc/mozlSZlJqrKTb7rW/Lv+3l4x8lLEIBX/\n",
              "YgYPEhxXPg9VrHwOmQAAA1YBnypqQ/8AMfmcu8DX3AC3rmjDBZRU077CX4eZo/MSLLcJjXq+wKXz\n",
              "G7/3og1zfuaD8dHzDvF3ajjMnn5zpglOfFspmGltAi9xMW0TtKMsfCgOFoesUzVI1zF67ZkYll3k\n",
              "eGkVoMR9flJZeGf72EKa3BoH9oTn/TpxGp8Yf5qODx4wzEfRE9MvVOAAJvs5iG9mt5XNc2WH4ZXR\n",
              "T/TXfSVzWyBV/TYtUXM9kzgrQ7+EwiIGqyo0e39aL5lbU3gboqA4LrhNKwFvN6bXZb0TxUN1BzPq\n",
              "pMJzt5IOURGFTvfV2CWv7K9uEaBuDMD3ygxrnRbsVNCGvbXUm63UfxtwVE2hqNSLwx0NSDESpbnF\n",
              "f7VCuOTUhl42zSl2t5t3Qb3qMhba7NTIIkd6eCOOT41Tkg2TmPcfolxgDyKQz/oedtrAxBTf0krR\n",
              "do9oAf8wnQbKJ/mwwOxNGw3xz9jKN+zf/SISaI+35SP696Sft7Laois3Td78kMrfNT56IMSbTeY2\n",
              "y3W8u52aF/bTNVVE22COFMkDjWrS6fp4iUTIMsbn/tjv8/hnuQE6bleUVjkXVlMKl/cUgndjzWcY\n",
              "ZqYTAQGc5NP169AWadeMmxI6k7+IPrjavmZguR/x2KH3UIL+AMlkYVSUnHt0+NKf5GXQm8/JQQtg\n",
              "8k3fMGkrqx45cknI/sYY9B/w4f1HNqv6I3in6TYEut21CPI4a/k2BHIEbTOiCcxWVO5aQOejXiwG\n",
              "61z/Oz8ywPhxY5xlzDYFx01EMLMQzRiWsHsM10G7G8X8PTYSgGYhwA8h2AL3qvpScEHNGWx+sS3p\n",
              "wpIWMZV/iLM+PSwDeEyUSZidZEfeMVtFWu21SQ0RzAwODUHI/RGyNCfVjqIkIJfx6+9n632AGpaU\n",
              "IEs3tfR7FKqgDDnahN4ewqrxcijgrDMkYb7ucC28k8hENybYlTzZHP9HZXW/22LVL6jU5Pojt7GN\n",
              "TUSlMfeq4gQ/nene56aZY846a1cNu0JWUdqDZ8GX4pKnPbUbZJtRlOgpocl1k/+DN6YyqzO5QAal\n",
              "c6bsTqPSFRnmu0N/CwFwu83UUGJzFJjD01H2kTHLLRLCbN9T4Yk52Rp6Ze0t71lGTEiwFdLsH5IP\n",
              "MiP1F7m3BYfNNncW32oFlAAABztBmy9J4Q8mUwIKf/7WjLAEQcyHABLW/BpRJ+tPGLF+wQDW1GA4\n",
              "G3pGLa8Kr2StXBNio/TFmO6mdD0mrIIEk2zdIyIIBEXRWOHeLEJ2MUvJPltlVktVKM/jlcD6eKJt\n",
              "xiX0j8h9e6Mlyl8pzF8VnQQ6xMwpdAzkdLnbEpCJ4KK64g5NE557D/BqyoN/gnclKjKtjGLA8Zcy\n",
              "Dg60J731sw4SgVoKDyJ1PH6POxzBafG+VJV9tKMkWofEQXsjmjfNCrFFOAQozlDQEzVgiRYzIbQO\n",
              "ZmaUxh4BtkRuIBMgsdNv2M3hIaAi2R6lrSnOi8oBNxhvYMEGng7TsHLSghZp4l3baXa7iJgc9d+K\n",
              "6moLwvefVbL6McBqMxvYPyAHI4VWoG+jU4DCH6TVpfRMcKE8IbwghinobC3rwykrI9/U+qz0YdUm\n",
              "4s9lI+0K6+uSO56ZE2VxI+tywSS8+0G0Iu3hCsIfwSZMWIpjYI3yjbLKevFw8HXnJssF2NxWSFAM\n",
              "r2BS4nMr/jumYcLTz+/Tppm/yZHwe8pKFbH8QTNO27L/DzSOpNMWqLgvBzPrt+ZiBH8hdphd7WT6\n",
              "NV0YvkZLwEWfAXt/0GQ2YoQQpOzDD5k8Ji3Ryx3olDNw5PohzEXogizRjBeviXzjuYaDPMEjlmRa\n",
              "lCrFqARJl/oHNWY14tm2k5H4CZIyHZyxUjeMoMnwiTrRbdIBGmaSS6Xf6dG8d2lXXYSFEF/5/ZSv\n",
              "TYXs2kZqAR+gQdoaCdusnSpe5KeyA5xroUeHCc94tNHjABdhilpX97m7W3zXa0R5Vav//3OiK4bw\n",
              "inWnTBNClkVYLWLSYXeI8A3+WBNdrBjDsTsu/e3qE1BFouBU/1mwCgaQNzNJwt2rl82fY63bqFla\n",
              "vtXTh9r2eXTTlzX0JR6BZc4Qcsjb2+poSu6rLFSpn0sqYhEyk30BWV3iPBTI1jPyfuCdinqEQF3t\n",
              "Jq641UVVawxyDC61mYls1aoAp9+PB/unuroJ12Ht27LTXkQWXHqCLRIeVISZ2evoVrgmei36szSR\n",
              "mZWdqxfPsLhtNYrpkCOPEen+wlUskePE5B7e9p7OhZWJYmKqM4aPOLMawSqoeoq9rBvp6UjDK/Hl\n",
              "/z2VsLM6Dk9OuxM78Wj42bxjtQfao/rkIGUZsnO13R4LoEe1Dp5xf6AqNLk+bYk9fYthtHOhCuTI\n",
              "GcW9tk8PHjvR/F2ohRq9xn7nXA2IGnkUn336bsdOCeCi6lm4BuhDm5wOYq5vmpt0TR1zz3+9FkXE\n",
              "O0E4Vt4rAvqd9mypGeeCwXkVwfoorFQUyr3Anq9SKTB3qOgyLKDRtNvse+A3fdppOyj3t6PcP9/p\n",
              "VBCXCNlrK3nfN33dnTnp1Tg2/AzYbfI63AYTMD7/XcYfpa/90hazBFvgEIOh/8Nf6DMyo/TXLC0M\n",
              "ZGmyJ0Hmsm5uR3HINK1tRto/DZX/spkekCla0IwINqRhCiLULc7CvcWTStjzZ8D7C8pmDM5mSIZ8\n",
              "uJvZzhs5TNYf2kJN1majfCV4h+VtpyX+PB+eKMQsggnquIa4YmiExSxj7FX39fZe/aqpMaXDb9WG\n",
              "4cF/OQq2BChqbW3Fp89whLOZyKhKOdOkneIQ/gm5D+zk/yGu1FDQCYXlmriHk6mnuMF6jYbqvP1Q\n",
              "U/8NFD8O9QgHybfTEotsI2Q1jHxFntWK0vvFk/zG1HUGggzKVzkn1FvvUEqPRypKO2kfWt+nL3tW\n",
              "JGKEi7uQbRB3f0MLyOEr1piVqhpvV0jsIUsEU7rz29atx4aPyBi2a7Ks8q4KZ4pOPzhaJnXDaDAA\n",
              "N71mGfOFKS+nYzbIeOBScll7UeOQEnkX0vkEweK9XddrFpeDZO3GToU0CnDbWljlRPFvGYKPsNPV\n",
              "a//BKSVI4Hqw64CqiHiuGzhcUEOE3+5d5PPbh12ML2h1fEywaB8OsDynFKmoEKKaNG+NYp1o3jt1\n",
              "eQdrzFwQpAItpBm8jAI4WeiEpllEMNfebj3yiP6KKrgfURikrUfHcvwGZTWoVq3dDASCTAf+XC0A\n",
              "vszp0PmUf4nfCSm9AtxXVAvXllQSxTqxv9itPQyo+MQfGMdg8I6YaFH9FOlAYATLoYpKJKVHRnV9\n",
              "joH68QmUjALU/OqE/fPeMZwhiktFFl3+FRU+SgcD/P6tLewVI36eD6lSXqAPqmVT9PLBY4GjGD2/\n",
              "kSLH6YLGt6PgT9kM1ZW7yPagaTfVLMU+42chGsve0G4nreLq6J5CPghmq2bFE5HnvB529qG6T3wT\n",
              "Jo6Jce4HIvTEWorfJJ8C83kGySg0AuklFnaerASCRqTHeg1imh+Pch2Ud8liuPwDyO/0rq/IRGVq\n",
              "nQhndI3yH8oiKZzdvW3GioBq1EeSzJR1Nufnzwbc843GE5z+nT0vLeTQ44aGaM9lfaICYN7N/zhw\n",
              "8+xozOjC0SPcsHBs598++q56ybIsrXfRXzWPemEDqGpOtqbJec/4+vDtULe1gRcAAAMsQZ9NRRE8\n",
              "EP8AFNrUQAAOPcLjIUoiylxwWX1moegrkJH8nn0EiiMx3rTvTmNrRYZsCufnjOGZLtE4rD/kTbA6\n",
              "aqG2Ii69Zyl3Uu7FbwuKLqJe1B64fCJRn6Akcamrsr71hbxyKt6ZLd7ZIzCXXqvSwOUXGDYPJfG7\n",
              "gKATx9jNhPWPfUN8zLS2l8O3UHTsNSeRQQ5vxVbSKQx01PmimCDbNqHQIomXd8I5Zz2791OqhMVk\n",
              "t43wm4U+wfnnU8IxO6GPGQlFtTy71r5HUQDtg5+GjlQaTbCttf++MGyDaQKddY2kk774bGBsJl8z\n",
              "XSSHT+qkZScwACXVPIa+OBGZkC/nIRP1fSmOlgaCbmHqzyoguAeHtAW/ypzcZSAIaBv4DXlJG9rn\n",
              "/Cf+TNl7tEvXemrXSVovBc2EjJX5DsA7Llml4ubZhalV8aIpp3Ok46uXTdlu11Djhd6ThTxDtk1o\n",
              "EjH4p2t4vC5hQYj/OwNypO1/BVuMyuwtCGvSsM1gD9S0B26xqqrol9qrjgf8QVzs+6Ca1seFoHz7\n",
              "k1xnW7bMuXTQZysAs45o/iqoND/e92jpmo5XnNFurA++Qm/HQJN3KffRwy7oy2xK6OPbTxp5uey/\n",
              "7zzjKv+V9Id5W5SNqYc9xcJACt47PiawUX6CXZvAaOlAldkAqU2+ZhITLfgxhPY6Sf4iYa4v6EQS\n",
              "frgK/sbRIIpDm1pC5FKhy4UprM4zH1rl4b1SJwTBeJELHB4lyxx5TrmiWJEicouFVftIzg2O7jMN\n",
              "n9yXsLJ0DdN6lUjWgRZlzWN2fHoZ3oHG2yIylpjPodi2koucTovhbNk3/vjVkvHyaoUPepV0jWak\n",
              "TajRXOGcKEyd3NkfM9a487WlnVHcbgzL4H3LdDkJncPaZqhSf6Ots4aiSZPwlXxuBfdPZq3cMIO6\n",
              "oK76yZKyiv53RSzrb/3UtFOZyT6SkffqvD9cRoJWNXL/62YB9z72AtEvt4l6A/JI1Qv7xTip0jAZ\n",
              "5Qs7Ag+XFTYdsthnh3/x9AyAaPqUBgN5Qujxtcy2aUU+W0/X3AgqdTadCUt2JLkUWPBrmA8/G5oT\n",
              "Ex0fVDBUDmkAAAIXAZ9sdEP/AC5i9qgAuq6zjS+RIZG0avXhSpctdH2WgKF6F0jGrzOyuxxmrdlG\n",
              "odUueqHCNKW1XBK88sjloJPsKDZPUS4aNPLFXaDT10LQ1fRj8zgnLmTKTZH4RR/gMdd6SjVzOA17\n",
              "9l8CmrQWw/sGel3AtPbExwV67KRj0k8nON21h2AUk2hVC0ycGB8qdLD7Grs2qzSXFzrrHVkpZ2xK\n",
              "kcp4MHWCI3TKu6QamkJQBkhRFEBIURdtDjfbqtT+Nz8jdSgXgUF+RuBllejO8gMwR7b8bs20kbKT\n",
              "Wx4wvVnzdDWm4Qqf0fdOkg14jFjxeSBbso8gQX0n7DNzQ508m/hD+0UbRVz91xLZ4oOyABtRfF4W\n",
              "ekriqmK18nG2ugDlNuTqiAGnDjBdPpTLtL9Bt0nl8Kj3Pw/15ZbmVkO7URCU3FWx/nK24g8Z8H/J\n",
              "rSAKEITR63bvC6Lwn7MgADetz8wa6qYNzpglVMcCoGI4fR6Ddzp0vTvtwcGYE0pfL4qAcvcHXHKe\n",
              "pJ5zpTkIsMDGwcGkF2TYCieuHNqZ6ncRNl5X4qOTPogCDbKy974voWyx+6+zXKmVNPBDypVr0qLm\n",
              "ALEOQecG6ILEXqpigo+FqV2XYiAZh/ADU1xQfbluqTuy06bv6ofWr8DqPKA9k3Gqi0zgT8E1oFlP\n",
              "cuhoWxjjPjjvvv7Qdmc6iz9gO78kVyEODSWfNT4YtrSBlQAAAkwBn25qQ/8ALnyaAC6rqwEzj2c2\n",
              "7cuib2GIfvEeYM1EvfeYVqnFnYRNKMO2FzjLPZTELKOauFsb7iSiuM1pYG3L+Z/L51QPvMsQ7JFM\n",
              "Xk+Xf4Hrs4Vie4gYMaX5Nh8iFmK/icSPQdYTRVMM1SxJfx0iBPt72VueWi0XVsBZxz21yico8AUI\n",
              "6zD99B8fIdRyChYNdWux/uf8hi1Vi+i2jtAmL8UBaOVgj8e2S6SoEzRr+MpSxaO+9IioJH1Ki5mq\n",
              "STLSMys+eM0903lY1EErghogrFL5Iv5m9+KlZUoZfUeWZOLVY5ICUg500b8tdg8mirL2VvgrA8pE\n",
              "AMvG3B5fozK3CHryMFupRg9pigujsUC1IFIcxO8gxPjVkfH5szYftJ0K2NUDUhEj7/wwbH870yJO\n",
              "/v9A8QsUtPSfAiU8Ul+SvbvXpmBKsAsz1/LCkEahLji+5s5HPXzGl1TPMRSFdlvjeRauFxLk00pI\n",
              "//puAhpqFTCZvhm413ZoZCyI4S5z5pQxC80RwoAJa7JrNHnHP9M/CEcSkcXTnG+UhSOvIXUL9LJL\n",
              "PZsaz2pvhb0Six+ycNSSQ3nUEohsoHCfKon0AcVZNQMyU93UM5VMFKDF3UpGhgU+U2p5AOJmLbIv\n",
              "xV6/efGb1zpTYfoPw9mvHuAUg8hVK8X43OYC4tqIPNuoPOqJ51wAJxUc2ONY1wI1TfoVT3a5BeNl\n",
              "eUH1x0ULX/hMMKDF2pWFJ762/zt6zvT2rBZG5UGdqf4VCFMmDhvIa9SBBOMcg0q6DJ+KNLhLBD0A\n",
              "AAYBQZtzSahBaJlMCCn//taMsARFGTbQAP5DHtOFr+gi4FROv2Ui0gl/RlShlQcXLzXGhzn7UbS3\n",
              "QPWZI0+gzev9L0oGSmLPnMs41hzKNKOE7c4T88OF8sx/TdgsK8M8e6sXSHmvhckp1sHaPN9Yj7Ik\n",
              "AQCM/S9qL+Fpu7xSyXUpBDBBeNFvZ8rYvvqZekii0vKuAv3If3sDI9jCW7AqmT/92SJ1gylTd1dY\n",
              "QfcPm+tpozZiWv0oXxq/sYtkVL9TxAVibf/bRTbFyH9d0oWBjeGH/3761fRzcDVJUvt4zGB461U2\n",
              "hV8v+qpH2EqGRy0vC2+NyB55XBgyY2dJ1vihqe3qZEn7NEFaMRH6fpHG/I1RZMwE3O+VADTksCvB\n",
              "L/z8BUmPk5dBBFLiWLutLddRoB3QYBcElyTAVo61/3TD2Fkr2wnuS/UnEggpb9Hvax4hnQjUQRo6\n",
              "DLBGah9RvXeizJvoGR8ot0dmeLn84OwZC6TfhAJ6CjbYJsQxeoYXKRF4gGRZQl60cyojG5qM/xTt\n",
              "RUBz4mq2U+Jv7wSnAi48lixf9QVXZVHwN37xzMC839k0hrTiDeBFLrma2sTWEzwsrZCq09zRdKEW\n",
              "i7w7H4AZUSVhKOeU86HqkE+de5uJVlcoiKRuWf1TbHf1uB/ZzQYFP1dDlSSBT5MHAGe14GoOsIQF\n",
              "yfPdTyKh28cIMx+8Sksr0lEFzkhVbAwQhigqpwlmeNgiG50Y5f3iFKGfa2Hgmj9Nz5s4xOemqYbC\n",
              "dwoYbYGgROxOe3wHlRv/SueZaTHq6crurf7HVYX1B222HDTVZcEvPCDKgLYYEDaTsPTG5LUF5RvF\n",
              "Gb4pUPOA3Vwy66+Mwhj/lXIqs/5zmYrqjk3FkYLpAdvSwcFDrRl2YpoLu6g1Sk31F1X1LDNtwYXQ\n",
              "ooYnfCFJ8u6legz3NZHqeV+4L1X4syJi1A6uyVnRSBjEOCBOQ6pCWh0sTzeYJjFXYiNH5LIB/+ou\n",
              "FYWEmwcLKScu+EydQITcYiSTSu7BTmdlpongIbppuNZaSRnC2sQXBWgFoQTQRdkCQUxvwe6A2Aez\n",
              "uLAyAVjqytT2yYGpiUQIND04o4s9UmVjq4+ifGPGaOlflg5wJDrMS+xCEd7jUcyXqHYlBlO/zc7p\n",
              "CrZZsO2CtEjzhWPNtxgYuuoWVWZyIkT/CaY2+zEo0NHxH078AW3PI8H4XJXfGVMXM7OZWxIpDXIs\n",
              "qVSAYRN7uQIlAT//hCY9diBntr/BN2gFGeZ+/Lw+HbmDIPCyWQi0aD+Xi5IWA3l9aAKpkSFOw35Q\n",
              "FFkrhg5mMN8A3TBrwwTSK7zKvtDyp74j+VO92yPd9cIGTmGNUl+D5+HyNfKm/1/UcXDEgAtHc9sp\n",
              "qcGQazRxdXydJnFHVj+clv4Wd9diDaQmcTLshfR9T1MOLs6SIPeH+gUNL46NHnYF3GoldsZPA/1m\n",
              "XNIGsV8soPnf6f57ax1k264mxLsPfGgD6qlKoWf3C+g7EMFrPFxUq3U3O8U2O/MLCR7n2DTKA3UI\n",
              "H6xbt4w9IQIB09dvktNT4avHu9ZZQIZakQ9ZJPimwsmWK0d9T/rGvOA6nMP6lkq72LGLYIDiY/nN\n",
              "HKiF90YasnJki1qq1zMqs/+T0m3do6DQvBjpA1qdsSieSeAD/t/uKhS1JxfLKLAyiwfkR7909yMr\n",
              "XMCRiK4/x2+JP+8+kaTqfQGJ4FFpmjL20nQmOtlf0vDbopsGNXOlDFk769xsHz7IUpOrsgcx9TWo\n",
              "N3z5MXLuRiM4eiX/cbBs3AQkJqLj26ZSGgqx2ZlerErnWMrGKGCAWkpaRSwTbCOyfSTZv+28T7El\n",
              "jfdF0uffChosFVGnsc4zpTqBccWIrJjdBxsj39ZqG8TzSnp1Y0PrFmXLxAeFtp+ia9id1/QMLGkK\n",
              "XFMwiIiTlybHxeKIS50eWPscimhIcEPAX+mpNqYuoRwIbQa1K7hZbWvHzz6nAaSvblU2XMsDXyxd\n",
              "uzfK4piwKmJH3gWuiTWUJ/UL90LGGzfyb6UicJUu/my2u4UpHROWiY6D4CTgRE0vLMTYEG8QPdBZ\n",
              "wAAAAnNBn5FFESwQ/wAU8tYQABO2rhYyruLsa1jqgGlI1tjqVDhHL5Yikwzz7WB3sOvr5eVzYMkz\n",
              "RaGZpk5VuYi6RPUTcT6cxcvripxJEnzu/wFrILtHKy0SHkmZ8fS3ikLZ/S30dKgwdBuW7nOeS5tO\n",
              "LDi5tq2MP33BxLRgabKhhgZuf1IS+X1QHvXVVmmVcXbfo6a76l7IcCa1x68H+Snf+N7ryzegXj7u\n",
              "IMJJ5vnUsj89yxFdgT2G4ioHBuNUu6jwEAc74P2OpaLrfzcUDGL1QCo2hZYQ0NwxFVcXfDl8OqFn\n",
              "YL0ruOxN+YU6/wD+rtjyXe8att9/UQoxuBiZJHnUf5iVu9g9kAo5UbNNLa47EZCOyQOLfdQoe7Zb\n",
              "L2UILYof4IN4qnSSDYPz3b1xV3TLfde2EStO4f/ouCaAW6mWD2OrI/Vcw2HMJA20ThDkrfSHiT2a\n",
              "MO+x0raAXeLUZ4pQ+fI5eB+geVaKGJC6CSjFDrOj3fZ2s5VbJOvAO11C8guhFmN/tbd51MdgREx4\n",
              "Qg3iGO3b6IzxPoMJCGs5VJScaCeN7+PCpajIqoFXcZ4b3Tfv1o1m/7zpi6WC7thpS/2j9wc2Qe8y\n",
              "9r63Gz0fDz1iS/QkEXI69s1kYxbg3tBVvYuMOf/qOmYhtLh9alDxKon7xbnSdrbjjmjmxMx7cJrB\n",
              "3inlm2V+7Oq+0nqICLRJWu9E7WVNF3clNgsumaDUi3LIobmR41+JPZkndDsPT+QbFxDGrxTTjtJc\n",
              "F0Vz4oWBPoi154IpS/mPoivqzpyr1tcBTOR8hsEGB0dJFbNk9PlpaR/gLMONAkBbVB9E4haGQjjr\n",
              "YCpGNmAAAAGnAZ+wdEP/AC58mgAuq7K88LR9ao719O81BCiRjhf0iuM/MoMBvhdRiO0x2/I7hp3C\n",
              "Q33/D6fLLpBvMGBKuTstE9H4LnQUXtV6EghVzCGL4L8Y24CTmAtNzoondPmifXZx+5wA7OaZhgGt\n",
              "w1Q/MTTGLjvO7fqi0se1BL5rXStBtg6yIVbsKgiKZzu0Ai6opXxtj0VPr9MEws3sAUJTusfRwhRi\n",
              "SFssIOu7gLPAGkjb0KtZs9PLD2CglEYfoLoJNq88qYDi4eYz7UgiWWBVhegKp6POKJpeIGqYSliw\n",
              "RB8HGyYTpLlgkqtk+ocs+au6DrA2+26nD6QKlkiHcaiWK/dlSU4W5DuqbNUaQpEKT0KzwPW+Z7Wi\n",
              "YxLLsCpkiwa8Y9W4AMCleqNoStNo3nBelHQUlYCrz7LWe0R2PkFab3IC0Hwki5PdYlMbJYbQXDaN\n",
              "sMnYShRdHH7mVlzrBMvhL20i2lN6lfIyMB1UkXZvpkWvC1x+W2SvriwV1PVdRzzUJP8L5LTtKb9N\n",
              "p8cfuEzouj/YOx0FMaykomnsH52MMitaZRhqSYcoFTqhAAAB4AGfsmpD/wAt3FMLTQAXRVPLXqeA\n",
              "M6cpLyxQ6EamMlyVbKrsJCw0CMIJEHdm5Bd1LmkgdYxfaBsf5f16vrc0OrESDuAs6dmWfcl/PZZw\n",
              "AcW0KpInZKqbNYmpihC7ik2t5yP2v9KD33wvVfE+vi5Zx4MPBzLeQ+RttgN8Q3cPvQgHxzM4PtdE\n",
              "12Md8xcObXmaDMLnjW1YjBRTidso8Ivb2Ji6tgHQKFysjkOeM5mOQ3WOPZV7+IMgHRqnBa3ahCbw\n",
              "8QVhc0oAf1X2eMKoxvf6Z94ramqjVFA53BUsxB+/OuZzJL/XuOotgbsj3+gW60RKBvMNRMEs1kSD\n",
              "R2KA/0D9oI17DoZdq0kJtemQRFV7iBJiO0SZ6pIaumDgxivsKfIiildLw25ctsSEpEyt0lyULNcA\n",
              "dIbcOYYMOmnscWeyF4noBqglZTznAuW6kIC97SlbusMHlS5J9uTxHVgq+5XC3d/zpYPfku3P40d8\n",
              "ZPC6F4b0bRG/6bgE9K85315dWSkhdRa+zttY33n+w07L+3etdRvD8dCxo128jj1y76EKpcU6GHzV\n",
              "apfOBMxVmxFlHdFPX8tjuzbDfmNth0TmjX2+AhNXGhAWOsT9CEp74I1X9hMWdD4aq03kkaS7ss00\n",
              "c3GhnwAABONBm7dJqEFsmUwIJ//+tSqAEI8CdeQARNvOtbR9+e5AWLSXxzSSqNwuLOuBknyJVi6V\n",
              "/kvfgiYSGPhq9E0yTFrx9W84bfz+Oqg9+8FrAq8x2LumbC9ofMUhSm+bLbqpeCedai4V05Zs+v4I\n",
              "NE1Se/2uA/fNV5g+diE/lmlMunuvOwy7fwvfYxmJko+1djO7T4WT74EtszDXtuzO7QeQg7Ukeb7O\n",
              "Wbn1pefVeUM/7IJtg3efve/wnyNvniFK6fkhMu//FBElZNUBw4fHIXauYIdMspzSjqX6WcBUn1kH\n",
              "9GUSq7Ikz4DmjXLr2HESjnXCyLxPuoNUABGa+5P3+aSRaIY10YZQf2Wvbi2WgipNFzh7a6GrwLiG\n",
              "91fenOJx8UED59bVQu4zqGiSgIRXF3x5mQmxyauSJFmnP7awfFishVnvDF8V8iidkjnkNXn2Kl40\n",
              "xyKmLhcNcXLCelT23agcxL/yPYzP9nN/vWwxHPBKQJZSd6WgbedaWDsPAFM3yszdPSv/zbCBRTA1\n",
              "fp551WYFQU1FVS3EpEsnZdR+8/trk4H0oIaRL4Buj1E7XiocnRFzj1nCesGMFK7j8reUUD1MA5cl\n",
              "axNysaBZf23zpzvXNtQzegNinT4BcXM2Q4ocVaBeLRZWGdEJJaU01DWxVjFY3A/JYAF0KY7GsNAY\n",
              "sZm+XeMP+HeU5Qw2wq/1d2Hg2dRj6OduQ1PZDDS7nY4o6u8qT/7tR8R/RfKLruy+ghVZaiwXUC29\n",
              "r5f6RGwlIj7Gujy1aPmdqKDg5b5r9gsbyL3nHumsnOmB2fag7W1gPJLkkHq8OoAcvvq6YoFZ/ov7\n",
              "8irXMvxOpigXHzNjix4PVgzyMpggpWf2q0t8srWNtO2UW0em3wvfV3BNVEM4vqo2lK6BcYtnoQZL\n",
              "dQIEpv3Cf3JsxWlXvOTF13SLkxyhSiW+FsYoNlkbgwcu9gdAc8l1ItCRZjKaDbTcxr9QKv9EtNbp\n",
              "tTbQ/ooDyKxDpM5MnlJT8gpfOnn3/p79lxzEwRSGNA4q4XfqEFDvnKc7esIPKTBIywyR76SkmhJs\n",
              "6zYpatu+pjHyQa3Iv3t2lYbVliUCDpfeEYdeXbHE57yk09Ih6uqUix8G2JWGlBGq7twEOFXOTTky\n",
              "ReZ1XAo/Ki0LnaqgMZwXlT2o94rDLrYNaanrg+QNjawaAfQJoo+o2NTX0TqOHgHBA9S0/FDVAmv6\n",
              "bFbl4JAMCIjfooRm9WsvUVGFlxtqnG9HOuYfKFzfGqpXEAcZR2k1tvU4PeLbm4tejr1ZcaxNfYyA\n",
              "sHtiLBj8esvfPs9tas4LHHbIoDOlIMO/CbGKnKWOw4cmlSAgbq/i1+2m1Df0ljI3VVu+sMYoKxeO\n",
              "GxKRlMZHPd418ijT5KJrn7CStQL4awYMkdSFzsIcjk46wQ4VOMtmFpvzhkj0bGo+dJ9Cq6wN/+8d\n",
              "LarajUF38QCnc7jGwaWEI4Ob4sqNNhX6ISco2A9aqO0aFGKKkz66t0Hk3KnvPV/TKvaJH5AtnVvJ\n",
              "idZ+sK40vqsF3z0QZOnPGXwHCbtUdpxxZeXmRQzKICooYkB79Mszs+vRhCYr5ozMocPeVeGPDCsf\n",
              "4KxtI9IVx4Jrc3CyMg8IKK7Tu/BFxhc9HSY2A1fR6BP+scad9WzOZkaDlFPXX12Oc7T2d8ohN4hV\n",
              "rXzYblAAAAJkQZ/VRRUsEP8AFO+vwACWrhCsBKDRXq5ZqZejUOWaDxCQP9vP368Sv2it99B+ZZqZ\n",
              "9jHSV5UeBqFcOJlvwYD2k4N5NAlHNpWq4vGDhcinEPdu9U/pYxz9ZCSS2P52V2SHwucFWCtHoMpZ\n",
              "R2uAQJbifFnruRh60UVH0mZtEmyJOtaxqenVQWnZsexSGhAHSIaNs1K+QeJGpagZsaPg+knY9WjR\n",
              "qWxOLu/HuREI345utSlJ6MdwS1TLT7dDbu/I/uL5/u09NJyyWhiQLdn84hestK3pg5AXGRuasYi5\n",
              "/5jVPyFa2agBkv//OvxcEnNs8wxB9Edr1KxEsG6tMBw8m/HlxpxxaGeeA9crs03LCynVi9vuOOXt\n",
              "sT/a/KnPEPERIYO/hYUM7pjuDaCg09/HZC0FHdWyfoD3kQPqYaaKgK1YOfllSjwmFajwZhKXPn/3\n",
              "3v3uFUoHAZrTMp1fWihVHVXie+KFWE4hVex4DE5KnM8qaYZozJURZ1m2BG93EHIJfPur5kHozJYz\n",
              "yXKsuK1XstDm54RzQuLv9CACLexCh/wztTuNv0iRgPTPuz2g47YrnVuBy9/lREf88/iehXiNgtWV\n",
              "bH/7WFZSinFtP6nsN/ogOtM1GQb1fTasQZpTKJgVlhh4QzUEqe+ojESI7gn9G6I4GXAeZO4HpSxV\n",
              "uPNdGScHD/HlbiuS4UPAXceFjw/4calhd62K2DEoZGDnQPDgHot+lSfIzRyMSP5aAI9AUCWx3Rs+\n",
              "twc1DPF+mSjln4rtQOm7jxalHLk30iz0bIyAF0KgFaNfiMvubVnDi6LuRhBWQn1nrcFfAAABpAGf\n",
              "9HRD/wAuYvaoALqr0yLo2CQXyNUiOc9Ok5Zj72h3P97ezeD5r0Yec3VDOFhoakZMAiB07FXr7vhF\n",
              "kZj56Z4yBC+TecTUcPt+tYcJQBSF0cchdKf47KFbsi61/EZPorBwTy3UaCkpwbO2VZDa0DlSoAP2\n",
              "RY9eIw7yfRuNuuqJGZOWKJYJaB0KEr0SeL27VwLu4cKJ/qJy8EzlAitVqIS1M6ub1QwM3l/iLQXR\n",
              "/L8GkVkn8f1HyncJ5cvjT0D6+/OojA8UqOGKe2bZgOA8nrKph1/DFjZratoEYaB0wTgdZ6GQAy8G\n",
              "4rs/u+dCj/mG7+N/4E34KR7CXErv8NPKjARuJ3plJpsul8bP+s+ybr0oK1uM7b+/Gstu5sROIgm0\n",
              "YPYDINFSoBc9Etw6QXRYgSSYLfyTjr84augZ2OQeSSYu06GRFEbUDL2k4VMJJObbvxUlTSWgN7Ur\n",
              "yl+y0HYiY3D5JnHYLz9qX4ecKoZpO1QTrHB7je4L597QxW6FAh3NXi/dqjE0Nlu42s2WLbutJAss\n",
              "Nwd+j5xRKWHX6Uef4X4r9cB8wAAAAVsBn/ZqQ/8ALnyaAC6rsJq+S7NoaTBAKkw3qHPdOZSZHytZ\n",
              "3niME14KkodcMh/MxFjOtfUuhyzvlf8B7XrEWtk1zoatiZ+07c49KDwWB1yX9JFcHyPXXWbFEeW/\n",
              "1P99cq6D0KDJqQZkGm7cgYgY/V1rH9cY1O/KH5FDxkedOkmQDFStRbBqQz7u+ipDQSqiQw9X8hjS\n",
              "UFJQe7wGiUr8Sh5WZhANUJ7xB5jXfmNL7bOXu5jPpTYE2gZb1+ttYspk0b7sK4QnrYS09V908fAy\n",
              "EGgJ0nz/53FrJi2OdThsU/LFfgAgub+T52scGIaCO080YjB2dnGODHFIfgXTDwJk4VRx/iCbR2Xk\n",
              "7zBAjtZeuHgTq2MK60T7qtWgOKoE1rF+M9YfCaqcvmzJmxHhWIAMbLoNoa7nkpagU2E+MVvFzvfh\n",
              "2JJccxsfkM6MhYl0WMtplHYpRpg5UF7cqsO4gQAABOVBm/tJqEFsmUwIJ//+tSqAEIcRTgBbVJpG\n",
              "X3wcFHkLwZk1K4rOg3acLgbQ+Zdrp/D2lTkCR7feS9kgR9SxDaYORulHwibmJ+tyHNqSN5YP89e8\n",
              "mnfB35hfJJqERlWvSqfvCShloQmrav6S6UVxbp51P0uUcjUqUtAN0rcWJremA6GrlWrH3xY+Vpon\n",
              "wGhMjpGZdbpN3pv98Dbs2XN2nckR9nFwRzQtol0pgQOiEoMlo+T2VGJEreYQF8LCJyQWKRadCpfg\n",
              "OM5qORnnzWdQ+e0v//+/sx+CAx8IPoyAB8xeBcYlN9tSNJnTlQQx+RD1dhAAo1a1DdIR5p4kB1H1\n",
              "tqbWKyP/+pvrp4PeTQsmynq6ssVf0VZDDbMzvDeApLmZCaBXZYkIH+n0KXe8otqtSZ5lwRD6L0MI\n",
              "82c3fWdREL0zcangUKwXBHPRicuK4qLWfn7Yo3NvdftueSBGnIpCpfPIjWJqp5eTPkiuFaphVSgZ\n",
              "y7Jk+S7g5oCgSpU9DaFJqgDTV3pSqz7AxJtRO+/nma8RbQUZNw0H/Fc0jsITtgLisAz5GXvRAD4F\n",
              "qnLCNo1Emu5vYFUgoGTLiyCLiB9ZqCX5eO1JTGnGm0wU+THZBPcQ9iTq72MIpIjh1hdF9Yrm2Il1\n",
              "Y0ZdOJVRZ7MYJKDBblL/MF39NmxevTOjWbiTqy4S9Q7IHEenTWaU4/9ZHbErexuto5nnJ7DxkRPV\n",
              "qyLNq+/oFMJFLpff9VD0olJboR2VrBXjd+PICwIXJzdyBTZyX/nWehbaC1RxYxxfaNiXE/YC8w9J\n",
              "wtyJ9ZFR7nWjP//JUU8QBogYx1MShQ10Scyo17/hJquaC1GRxdBc1d93m2QAC6W0Pl1SNmNCj7Lr\n",
              "y9Kjc85s9A48LAokgt9gDPw2LX0KL9pMhtjwyaMmwTDC2MDRergazHLqJkS45b1J/gu9O2HlVlGN\n",
              "CaRdEPZKLqFnSKr60bopSbEZ4bd9/kWLMM5kA8dVMSfAGqeC9yMTP9IedGTM5swTmZ6lenSbc2Hz\n",
              "zPhEzvP2awo2TH35JpRM9Xiq0GMkomp+wjQvBsdt/m+GjSK+uvYqnsjozhNjOOC4MUnwexlRwBuK\n",
              "P6B/ZOitPsfcAi7i/o/REL1v7GC6sM0ku09T7GlVIFs+amNqwL37phTH5zDTlZWzI6EItTJWz7T6\n",
              "IuVHunknZaONyhrNHyIA9/W4fNhxPRsz0GmeX5nn7pkCe0DJTR/6Mbq10Nr3yI6GinqFzoZus72v\n",
              "q+itygXn6+NajAXXexxfsKD5XWkrgHMxnKwLGVqJeYIGQpVrVoFPiiHoaUQCAIRXMx7TNlzutgG1\n",
              "OICZ5P0xQZVDDcnX0ZsbjVwVK1kxL99HFg7OxyglAbs+wZBGRNUjhnG4Vq3B2gfqRpAtQnkBfHfs\n",
              "EvwHZJYXj+7SvwGDvyn5BucFPnJw60aUeBpi4b8ZwqIK4qKIckwQpSpEpDew1mKiRuSNs2LyBLzI\n",
              "tmK45Yq3XbP6QP1I8IqppOLIl0rZ3R52pJ7VZChy2T6ktNEeKbdlNtHdqQaKu6ArAzE7vr3LQpzC\n",
              "w9IDEgY/BFz6IpLCQZwrx2G6j7TYuuV+xgQzDjWB6ldG4y7AiPkl1v+nrB2X/VrYM2DzQtE6jDjo\n",
              "VR1zWJf9VXJqP6umY9hUaMzYL7KQUfL4scKGtUC7gQAAAldBnhlFFSwQ/wAU+2AAF1XAb7LtK0mt\n",
              "uJ4vWQ1pxT0+eymuVSXH+1fxaMCI/fgHiPfJd3oVPEKIvNDOWBmp+GFrQhM5QT5ObhqLFgp9U/JZ\n",
              "1PDOSp1BBoANz0Px8VuyDBdz6kwdTNQdKJdcbYgZu3RDWovjGZzfqaq6WBJP/otz1K0P2xJQ40aC\n",
              "iUuz7Bot4DQhRoxxl2poMCUDRIUPkl6Naa0VAB0lZruzz07UN1g4x2TqfzuA7bCKm6VrnreIdi+t\n",
              "OGlbwZnjj13sjCBDCE5Ya4UlbRgidhyeCgU3JLk7NmHa6QstiyVVjT30+dstRWwVr6BmPgoj5NeN\n",
              "uO7VE7OmnTIPyhh65pTYlboo5PxtDWcskunEUCt283BVVZ+GNk+5nXWKQM7lWDtfDzIytUeILL6p\n",
              "l+i3yNGmd9zZeoumqGy5gVZlWfh2bh4yNujZ5Eyrr/fy/cjFjsslI0ZWO8jYNg4NiC5aWV34sWZi\n",
              "3OVRZiwTiPSzf0CZ9KCmVxAJGJITm9VODaSBJkcRug1Yz9xY/pOCbkSe8Zvj69YN0b7GDMoFtDlM\n",
              "ovnRNNciN/io3TxAk+Xq+qEVP8NpTByfZlTI01Ph0ButX45CjcE7QqwO2yTiimy9l7+MHGdoHue9\n",
              "a+hS9tCbvCE5UvHIKI94/hGLZ/TzHPGxLZfdxp/JnDoFpcTGxx896hhHc4pbtoBHt7DC2VmCgVEJ\n",
              "RGnAH0tBB7adH+bsAxB1sbY6JE4QNwxSnnGoj2e2jnKtjuwTk69lGm21eGJ2+GYqCOJ7bT/aNfg3\n",
              "1mZ5Jyo6YAAAAVABnjh0Q/8ALnyaAC6rqwEz2ywcXTnhjEQZiArW7dRNMdpYen9ySioqUoLSiqKE\n",
              "vS/yFx3j6RfO5YoNbaEtkEN4EQ45QOkd+w9REXp8WEp5WnYp2If/Teo+nysRnl5enckIgcYuOzpV\n",
              "B4t5FTQq8avS8pOC91d7S4L+cr4ei9zwmxEUEFiMVQwuYO+wTl15TqiPLhGhvTJOa2ybsAjw2swW\n",
              "bZPy5k38P0wxeq0IkYjQwX7qrWAqvTnJ8h3SF67Tq5fYBTcgiwM1vwDc8JdfuOMe6zB6UJFSorfm\n",
              "v+5uxY3PSTS2tMcbGshxvdM/8EIO4LoTgsjztBB+8GoPAHA+j6BFhb1J7qgv71o8KQKPVMekEt1i\n",
              "nCvt9rP9kDYgcbN9GcKp231OdAgSh1v7voklgelfyCq6XQEP65eFCDTF1MSHXonmpsIKX66B51go\n",
              "iDaAFBEAAAEjAZ46akP/AC58mgAuq7K88LSA3aEgbGaaL28eQZ8I8ly/OhXCemiYeEeNVC0uZMqJ\n",
              "VHEv7QKblMfT+B/4MHMBk0vhD3657NNuWTbvfvc/qM0VkIXqcBlHkonGq9g+q2W4kE6HzCwNZxb6\n",
              "LR2FPaP3yGhPUigFrtVT7mTQzQawTN3IEeOdjfRG5DLkqMd0FuOuOSZxoXDGG9eouMdQ7uDFEj0s\n",
              "yOLGeX07BXlTIr/3KG2CPujcIFRwDcV0anozCZRsVYBV7NE2J16jICELSItypzt1WFwLGqZrlkG/\n",
              "FZM20UTFzdelr/3rLoIYjVh0oar/5EAa0/+DNZgqesxfxlfxNzvhzLmeTxF2EkS1lEkeOc4DBLtq\n",
              "bI1ishO0pC1jNBizAsJmAAAE00GaP0moQWyZTAgn//61KoAQhR/+gAureZCsH3L1EFvBg25TPAcV\n",
              "CbMXKwI9gB8IsUNbKAYooCP49SzAsm/Qsr+hIsrJqdA3TgYAcxtjOYIU5UZVljz11gjYMPO9dsvu\n",
              "1+0x9/PWQ1J+bD9PqbqGJdBUEt/TIQA2/g8O5SAKTv7W7hywdDIyD2RqJ96CDep5gmkBl6dwSw0K\n",
              "x4lrZVfVCGDUu1K9PSKwYnJIesTFnHmpvWF/xj/koXDB2nWfod97cIsuSpdoWSv2BMuF7L8QXoxt\n",
              "yPLv7aGYBqKkBzOFquQGYwX07Ugm2tUbnuqLhBXI+wbr+wXrTxkAtRdkuP7pkNyl+KAxR0tLmRCc\n",
              "WUaf+UovSKjMXdUIWUoSmcdTiriR6/Lh5a9wZxRCPvmvedA4lRAe4eBUgwn/bTybzSO+nj5phupO\n",
              "4cU7z/5Im5oSjS2Kl+7dLCBLam3FanqW0LPHuPp4z9PUizDYik+BGwI582H2rJUo6vWC61saTHt/\n",
              "k2T0K5pNxWD9qT7NdAQIiZcYnoHF6kFKzT8Ke8JcQyQ7QoH4LK2bG2Q/t3zpjdMc5CyNquZl5DXE\n",
              "t87BUQ26x614zm8v7W8h5LE1sr3BIgrqKYhaaAJVn3tqN2SqFhOm+TNBSQToPla6ZDRGmLiel+GG\n",
              "s9FhXdtx/TsiO/2N1/vVLdLC7b87xPmujmJlMv/X25inOisudHF77dwHK/R9Icg27cop6VlbW32r\n",
              "/5/wQ6kEWZei/iSPD5byWMH/4wdz00cz3O7kWwGZf/LTdzEZ1r+NX5Dvw/73h6u/UEtHcxSPJNJD\n",
              "btr0tYz0XIe0Vtx4h9HEE/Gs1kpSb1TA/W4ZEwuxqMTg2RiqlVAQO9OL1lPaFIGpwrKiXfogy/GR\n",
              "kWQvyHGLBGJ9t7zVxhenG3yU7uRLv20f+gW31d0PRGFbXS1Ad3VnY9hzqIsi/7Ma5Y0ruPIS8RuE\n",
              "FaQ+Enl6kBV9PudMw26GOD1YjP/8+cIk8HyzjepnNjXkC2QFKRGr6lvD6uIMjE2VfFTqux4flTYw\n",
              "4e+tdG7iPGncOHZ/ARMrgHXbOWATIFz7X+t6RoWg2yPXrgxGr9lFnESmKUELqEO6okpWz7SFzrGp\n",
              "XJBnWpt7KHBa+7cGpIet9RyxGFE9gsVmDW777ZytfRVFjwcO+DnC4lc1Jq3QfWcEbZ66RLe2NB2H\n",
              "UL/493qIXbC0xD1Wp3H7e76bkN1y4Njw8+MBVw3Fete3GG+C6LhGX/bgo+Ex5jkITEdvyMCEcvDh\n",
              "1kjEC+RhovLJ65wg40bHrVmWA0Ik2fecwNvMo4X64j1bfTmlfZ2p9/Rc+6GHABIHPmWKRcXx/h9V\n",
              "XQzCtbVnYx2qc+TUpODcV2WjeuTpYiPDHmCVCtrYJuDkhuH6M5GiUSg54OHVfK8q0BT8KD5xQkQ2\n",
              "HJc7LWCq83p0PyNX2QHVxyeJ1dDHZdzOMPuHTVUse/J4bClrqYHnaWtQ1pZaU3hyu2bXkJzK7m37\n",
              "jDraFY2xQ+klVncOnXA3hzI4xYSwxPYO5gAhvwe5jnWfXcVH/vMnsqPj2/WHzp2wYV6Ba+tO6Lwz\n",
              "uRK068ZSFqmsiWS+mx0nU+lw+R2smlBjM6gFJYy5DhcSEzzraDMr9LR/P8B8syjRZ1BLhYBSYFJB\n",
              "AAABjUGeXUUVLBD/ABTy1hAAIxR8tXvyLd/PgC2LrnT6+lYu9HFI9//7SIwfCqdZZXTqByBpotwc\n",
              "P7A0prQEjAF/Lf/hPt6rZ5iN/DL6Z9V1rlEhTyqxLK32dtTjxkcej3sm0ZdyGJY+jd9rOnHdfaQ4\n",
              "q2VLStNMk3v0OC/acuNARX1Ae5a3EQxJTTkIQEeWkKgHN153hchVnUIjvTbtQFeCvlxMzI39IjTV\n",
              "4+SLI4RjDwcALmPjAaaq72xMRo4Ru7qvX+GhwN5r1wjsjVXc/z70xibShubZNNMyFmqq/ktzb1b0\n",
              "fO3aIJ3GQIobz46KytXRS253KIszPlIkk0+Qj4necr+LrYWi/UKnB5JV/o+FfKHedIwlvWiXn5/C\n",
              "Kj98O5MD2LbMWVs6ro+yzixWDZ6QeTqWiDL/XvWBsT4YzF1V4RaGQairLFJ0zmMcmoO936qPBtID\n",
              "jG9IcvLMZGuzxdPA6n7aeIef27CCFWaQ/Wv1c9MvWmOtjMIgtaXkGeEcYJY2bQ7W+HDPTd6DARc9\n",
              "oeEAAAGJAZ58dEP/AC58mgAuq7HYdwa2c4YznIDN0Z4JDWrOEa+aYQIC8FFlOZICkkbHNrEJRq7w\n",
              "uWb9GjOAiKMd6QJWycydppRuhuc/XzgV6kiW/Y1OOnY1okjaGBD/c9sF7PRRgIlOen7mGDmsWTzn\n",
              "d8bI5v79H9ELIFNbmyy4wvMdRgDtkuuFT3pNNJHkAhH4jpYQ9g9BlIoWYG2GYdSl0/J2il9G//5q\n",
              "wVbEJKJjZibIlC0Kqu5qsFcseXdFrIKzNRSHrD/yeByLab2zpOEz4a1Ra2JWHbi4OxfW+VacSlC9\n",
              "8nBu0Xo1h5ol8qwe3vt4y7WxiB7TPbMaBTwyJDhQf+4AtAcybRPKQ6ErZLyRhH8nqv0KtO2SXQ4k\n",
              "lO6lfopPJ/Khr77FVen57j4ZfN8BQRtfxpH3if1OicFwe6wydgZUytrUOnqAhMmwnlala5StzFhi\n",
              "0yWe7tGh/E3ePC3yEPG4W50Zp5S679R03bQ2XkuzNorTYOfOg5ZaLqSl8YSR3uyduJ7EakBHFAW0\n",
              "AAABjAGefmpD/wAt3raaAC56zQ9Kw0nLxDa5NjIBVsfzjlEPzJDg4iLHLMsy7GrbxQnnb2BFU33+\n",
              "U+hvzFUU9VmwtCFFsBzU4R3vPMWan2Io8i9vvJ7WVe/mDY9TS8dC+or6Zac3gliRt/0awkoh/tj/\n",
              "Grrp16Tesi5H9RhOFWbHU7Drau9U6CLx/ibPfZLsu7SJzxPTuw8Wy36SruEestmr3AFeipQk0Hsg\n",
              "5nVzeqGBm8v8RaC6P5fg0isk8l4aLW3Qo/dwVdJtyZnKz0A26a74GNDUnYJVRg1yJdCmZyaUNyDj\n",
              "GTA2Iswj95CCnOY4ArfjFkrcVIH8XaHRxE8pPTIVkkAhcYTVL82EXZ7u5yXfORbk+slPBYZiUGwi\n",
              "EzLuPeGp+mlpE3nEmqnnDbfR6mDGECX/VIrB0qzEXptD4rVXWv7k6NB3QdHW0kNPI9+X81RWT40m\n",
              "4Nd3aOfnYnEGVpmAMsu1J2S7E5ShT4iH3vWiBcnUsvn7KitKE+qkM5HCrtSPajO/b7DcyH0lz4AD\n",
              "ugAABJtBmmNJqEFsmUwIJf/+tSqAEIb3EABu25kRAH5WVpjwseyClCnEvdVJnJBC/IIoemUb7yt9\n",
              "TILn+7k/vOctwJYePBaejZfVqhfeNZxyqTsNyMyZQQPJTmXOou/sUjSvtUn3yWEFgOuQA6mG3pB4\n",
              "3AWXA4NSwVLafvaEyzmpOScSG7Eil22i1eTiXRTyzq4cJMlw82E8y8lf+FmWX1kWzMzDHuLrWcA1\n",
              "oqP55tese2M1uX9UJutXdSdyIdZ/aM5iXtoi5sq+qaVXwG9SnPxwa4lVzjsEuFluL3Q03tuhcf3j\n",
              "RB52Dq1/ergt6f9Wy8jZ0oX/PqBD1Voi3I5cxz9HUtifbOlvL99D5vQXrxA6zNoz8gbJ3TZhGoSm\n",
              "opG885eUiV6/iiYO0PinpGlSOl7B6NxHmrA8qFKQPJbo8zlKOw6FXLvZRN5ecLx4U9/7SdZX4utB\n",
              "GHPjmYA2OyqwCgVxDtB6/B1H+F5YEbDNjZG6qaNV5eSscIwxVw1w5upnLLreaC7gc36pi30YsdgP\n",
              "iu/aSeyEuGigZ8WKo4Udon14WIMH8Tepp3Jlexyi6PTrnAidaRuy3Sn0xpy39L9nZVXnVSQig1JV\n",
              "c0huaS8ZVgviuKQtvHUN/X46WqSXcdpDYqPTiHJVHWLxOyoQwBniM/QVWOcznAvfX9WPOQ3cZb/2\n",
              "IuqN4oAOubuxP+Zmdyr75xr5fBek8xukfsX2eWwpiaxT75ZiaMlLYlc3skGSLXLG3eCilnc5Nqun\n",
              "FFezyiQMUDmmpWpmnEEsd4ev2ao2YIw/v660UEvSvkq7+rzh056f4KPZvjxfgP0Zwo2bpcVzy6wr\n",
              "phky050BHIAYTBqZGW7QiGR2Y4xTY5cSMDozm/S4oDCXoq/cfPlGZYXaprGIs9s4jHc2FeZ1HJyv\n",
              "QFWSFC2j4OXiUyDSpEhWTuWb3SL7/hszPYviIFeheXtUTZsUzZJCcRVp65ATmHKx4HntXxDXUaD+\n",
              "8VMLe3l2l/O4JCe0hj8I6KrWkReMLp9tvaYAHY3+QZHokecayhMdaiH3r6zAVFOxDBtOGFhUFIGT\n",
              "84zPNqFWiQ+nDbALg8dRZ6XPiceTVg0YN1T0CC4astYqa0RTMfJ8/hbdd212N3TIC7PoGVNWVTsc\n",
              "BSkRX9m3806jAcKM7/L+sxd7Ee01/8ViUAlWoreoTfX9J97ZFPQrF7+FpCMC7OshJ0iq9xlGlLJN\n",
              "fg46cphFbgfu1gmpxAEBo9c8jTEt7fut0t3JpI9kjRDcxedzh+4vf7kSsUqpnaSQb+hDNJBQHqgr\n",
              "kHG/c3YOw1ztlWQCRs8rXqD2hEDnLex9OXz6l9ETzKNDJ3w64R0D1jGrWGxlenrNVAY/0AU8QDBG\n",
              "IMqF+jiM5RjDTG99iLuYBRQMgEnpk/Haa6E5sGmEiJWZdMAe3HVwBs2a4H6PbzVbdhy6rBT6I6tD\n",
              "Qo5bgZ8X7N0w3wuiJX01HHq5MvowDL8mA/oo7Wq2LWVsaoWMktdkeyob+K6pw0GvqvzXfwpa6dCd\n",
              "+dVjqRIrT9IiDQcK79YqJ9ZCT2dwd36Fghk2d+u1vQGCpgqNXD1UiJfwHTEAAAGHQZ6BRRUsEP8A\n",
              "FPtgACMrhCuuEoLS4VQ0o/4ebGN9WJQ2GD10W3qurdA/3Byiu7MRp2RglNl0pyCJ1sYqUwSyK/v3\n",
              "GTwqDnHo29Ew/+51aIYtFctvI5yo8ZKdeO7Kr5x/BfNAxxaj61XCCnJ/dS8Y/lbcdB8ZazVEqRlW\n",
              "SP/xLbyHzSlr3p3o7Fng8Tr4YJw3PcSdMrYJlPMItjIxT2orc0ucxD5B9nA6ynfEHFmFTHvS227+\n",
              "JTht9mNFsqHkgXPe8uZkKk/M/9SZXSXcdkOEMF0qTmfskrvNiqhPQ0sUV+NZoOUE6Wt0zoz1qroj\n",
              "QZ+OeEWrCKok/UQqzVui5UgRAs6lEjhLe+k23jYe4GuzP2WtEyMUzdirNae4OA+itfK6Y0txmZP9\n",
              "DiPXJExVtUwMVjgr+FqKzEAgiGGD3OHg3imF3KYzJjnOf1lHRdPsf7PDg0QoTFGmz1SLcXG7QtRC\n",
              "x0Fh2r05SzTYnuITEbr0ekxw77ItmH22U0nV/l+nb5mY6gxX7sAsoAAAAQsBnqB0Q/8ALmL2qAC6\n",
              "qwsrMBJSGeatSqWO+yCVu07s/ggD14fSsk+a1/MOcSsnMRr8O9Hm/GtDR7II17pwXhZ2UH7U4gti\n",
              "+nsi4E8Dbk/w+N2rxsKGg1mTHmfJISWw+ZNvkmPbbiEDPfHkc1ty2NQ7n65QfjmJ7X9h8PfGmacd\n",
              "h67MCfNcPSc7UgEk/g/83nnXSa/eHPo4y/F69o+mgazlR9vYCfpHEKKVNN+sN+swVFNJZhF/cUu3\n",
              "JPSCVaaaRH87LcxU2w/FzLB7awt0AkNthEp63Zo3ImjQCYTtA1SpTQYHyaej4DEIgNldjSnko9JF\n",
              "fb9eVI6qWiJzjp7WU+NKxew/yTcv3RhMQVMAAAEZAZ6iakP/AC58mgAuq6sBM49nNu3Lom9hiIpz\n",
              "iObhKvpqqh5RMjJsEJDU/XemqQxEDL4sCZim/iF12vK2nJnSBpklMfLiUU+C5OknCyLxouSjcE6Q\n",
              "16eWDQJHYwJlNoqrcyT5i1akAFk8g9llIRQKM834sgKsEy4teHWX6LJxCbIP31AREuZgkzEtxmLF\n",
              "rCGdc5E4m2tizFn54NUrwnku7uTyYdb/CLT0eOx7Bu9kqSfJOqg2Xwai5NbKdzj+g6EhY1mg+wg7\n",
              "62ug3tibP8QVuqJDXbCobcmBhQ8QJYjHK535ggq2JmyDT+zIlonjDA9wZ86zHRxRkbieIhdha4fP\n",
              "x0cqTy9k9RvuGhIDdq/u7FZEXixMjLVXB/gAAAJrQZqnSahBbJlMCCH//qpVACEID4ABLHhj1oDX\n",
              "4MrKspq3fE04NZlGYjtOsR3CS7WF1qRDdY3nzB8FahZN5cqHXp5GBlIN0mEaOmRwSTbZtwYLnsek\n",
              "KtNrW6b/GjKnc7NnO137K0bTgK/zxyTiDd3F7v/NENKarnFmAAcp/2IGi4pSkUWK9nRzrqyIVUuc\n",
              "4PXYe5fOda5m17/Pfto4BH8ZFxE5YjX9JRgpX/Xd0JTfHLZDq5N3Vu2j1Q/UhQdW8mTo2Cm4+m9g\n",
              "m+zpU/s/wBOqSFyQTVIZm5knHJTHMHJumct2to+HtG4L4QwlBlF76mLyKLhOAI3el2NlU+eqVQ/T\n",
              "kEeRXT8DViXgKL8N0bpU61wh9y10xrH3/34SDEihcBHy1xTLMdbnmwkW2q0vk02BG0/IrHSaqBKL\n",
              "unvnFzSmfyoYqHm2to+fILUbsUst91a69otKp34O6A8gyzNAgNd75jqWCFFHZXKXm+yN6fIVJLfe\n",
              "IOOyU43AFGjCOYxX222ynar1OOEz1Hc6h4YV69gdgTS15NOGBs7Rp2YpOWMLPFH9iWo9quXyktEH\n",
              "7siMJJFvUg6nJXcV55b84EsiNznVsgvnpQa0qyJuWrRHACxUq+LuRkwA0B6SEN03kYYvBFmvdaZ1\n",
              "7aV47aD+6NS90tIGfyYtDS9vfZ+wohR/AAJtYhGf9oWqxHY5kJ2ZFxMU0Tj6fY1xIzNrxD7B0S0L\n",
              "ziv/3+RmQByasHYMEiomB0eF7Y/+gD3L0Bl9Vab7H5uiuoiBsS/NGacFq6iWJktV3vOTXhUCt9Z7\n",
              "1np7pC/Bwtwlt0ZMec3tninpnPADuwAAAW5BnsVFFSwQ/wAU8tYQABO2sN0nCVtItY6oBoqjrY6l\n",
              "RW5ujiIyZF9gGVmM41LvFwqC6WhksPXbg+R67+tGXexY3hicPMCVNvXZHXpa+8jHNOLmfCGO7ejQ\n",
              "w992r21PiOxrwHXpylAyMhhRfBt72KBq7tdJnMMVbxBpe0Rbo1qpV7RuhuMOo7IKtP7IUjm4G4BV\n",
              "kuufENpsA3YUuljs+I8y4KK71x3wxmyLiYMPZIgT7/5HH+EsGfOKO8Ruhk/ZFquxzh2vgrTXdNKS\n",
              "VXX0Eo9oBiKyZHld5cqHUOe4VP2wz2xafT1p/xBSZijqIGDjH/iQT/ixarCz96tM+dPijekvtfeo\n",
              "/65SwHu/5kZDC7G+O3Mw68VM5GM9GKbXSrSxaWOwNAHdsyji+nlLv6Pv1njjqEHa0mEj0nexpl+j\n",
              "zlV3IADArdjkjQzYQKuvBM0Jj9Bj9fjbYwASBMkz8csO5pJVLJvQx+FgKDX2wTlA7oEAAAEtAZ7k\n",
              "dEP/AC58mgAuq7K88LSA1R26ct01MgXo4X9Iqm/AQT3Iauow5XisGQTs5Q6nrf4EhBB0HMWMnvK0\n",
              "eUeOs4A+6SRdeIw7PTbhGpWnrwpL2iFURtOVq/inCz+qmK++tfwJEOb8blypZ3CixVeE3Yet6ckU\n",
              "CoPLqSoxLBp57aE02IeT3wYZAUxdvhIwwReNdyjf4uNM5iGX+2tEpeo9jIJyHBOqkXi7oKfHLhpN\n",
              "9HhGtk9P8fXhGdSQens8pkvvqNPYV57txyUedtoT88bZj/qrlFwTw2iw4u2Ct14i69ni7B5Dwwr+\n",
              "thS2HokrREa4WagtU8RdycGWL8fzCTP9GLeRk2EoUU8ho7lxb7wnX6kxsFsB0Yso8dcNu6ZjNaty\n",
              "EoZxdGRblTzbieCZgQAAAWUBnuZqQ/8ALnyaAC6rsdgBKDa05XtC4MhE1qbRGCPudwkLDQIwgjKf\n",
              "U2WYgLB7RJ0Ry3OycVJHbyDm+3U/IyFjeC1Z8p90ONrJ42NW3ZXc4NvTH/dSTrxUdgjiW+evuHvR\n",
              "S5XqA+xTH+GUkcdxLyR5e5ReM8Qn/4Lc8HRxDiUM8jqSgW8EAmRK8sEKoLd2Qi2CkyL3A6BQuVkc\n",
              "hzxnMxyG6xx7LqK3HIB0apyudS9zsGPT7u83A+Dqn2WyYuoFrvwdP6bFSX4/JE3hcFddLMtkY9Gs\n",
              "vaMm0WOeo304Vi4tSjzlplEF6M6cdpYPIwZ9hhTeozpcGOd+g9eRCyFhp9Pd38equ0Ea2wKKT/8s\n",
              "VNqzOkNmOyOVSP43Yr1Uy9QEb7PmTuPL2J0BfbHRqHSyPAW/6xbGEvuWTi8KootIivel6femDE1o\n",
              "PWaWw02YIvt+Y3zKFoqhgHE+x3iMrsQzkmYH2JeOgP8AAAHjQZroSahBbJlMCH///qmWAIAgBMAJ\n",
              "auyvObJGObh6YRb29rQt+bpNPH7uQ/6vvZHs5ymoFLzzbjrFM380nkM4R4YIVTgR2aaTC9HmTWH8\n",
              "KG5IgUwd3Gl5JvHsm4dFvWjRO3erDo4X431ux/fZmTO4+x2e8/VXgZrYEeZ78nq2guOhOs9jx9Jw\n",
              "yygUZjRI2gWkBJbGDdk/Ggrr5K4ZpJnWUB3wMO+yDFJy0CWiMCyhkGMQZ7shi5xBh8c2/sRHWPpA\n",
              "f8H49tqFYfMZUYtJeMwG8LavfZcQguJZ+jqv5TDcfx3PWinMcgK5laEaH4cTdEOTmbJhxEsj3t4B\n",
              "PfHrzxK+xl7cbQUfzhj/oESNPU1xBmVqMvhjvvtJCy4+bKi8MDoa+QGkx3bgMBa7ZEjHSN8Pbxbm\n",
              "EthX7kX8eQHtqFUf3wx8XFUf1aQ3Zdi1+wV5XcxE05SxBHfvXb6uAze8ll8dKuWnWLe4c7Dzz5nq\n",
              "RHYqG/9RSm0ykmiOlnlpHGcnulh932NzZ3JTJFKrniSO3lDHhvfVOg9pXNDMGrbPpw1tb7bk9yUr\n",
              "2FuYV6Fc5aBt1lJviDiAwSvX3RiHXujqH0q8cH+117tG2k/Yu82ekoRHYyllT9OKVUeaOqsu9rk7\n",
              "HjnAtYJeAAAFBG1vb3YAAABsbXZoZAAAAAAAAAAAAAAAAAAAA+gAACAIAAEAAAEAAAAAAAAAAAAA\n",
              "AAABAAAAAAAAAAAAAAAAAAAAAQAAAAAAAAAAAAAAAAAAQAAAAAAAAAAAAAAAAAAAAAAAAAAAAAAA\n",
              "AAAAAAAAAAIAAAQudHJhawAAAFx0a2hkAAAAAwAAAAAAAAAAAAAAAQAAAAAAACAIAAAAAAAAAAAA\n",
              "AAAAAAAAAAABAAAAAAAAAAAAAAAAAAAAAQAAAAAAAAAAAAAAAAAAQAAAAAH4AAAB+AAAAAAAJGVk\n",
              "dHMAAAAcZWxzdAAAAAAAAAABAAAgCAAAEAAAAQAAAAADpm1kaWEAAAAgbWRoZAAAAAAAAAAAAAAA\n",
              "AAAAKAAAAUgAVcQAAAAAAC1oZGxyAAAAAAAAAAB2aWRlAAAAAAAAAAAAAAAAVmlkZW9IYW5kbGVy\n",
              "AAAAA1FtaW5mAAAAFHZtaGQAAAABAAAAAAAAAAAAAAAkZGluZgAAABxkcmVmAAAAAAAAAAEAAAAM\n",
              "dXJsIAAAAAEAAAMRc3RibAAAALVzdHNkAAAAAAAAAAEAAAClYXZjMQAAAAAAAAABAAAAAAAAAAAA\n",
              "AAAAAAAAAAH4AfgASAAAAEgAAAAAAAAAAQAAAAAAAAAAAAAAAAAAAAAAAAAAAAAAAAAAAAAAAAAA\n",
              "ABj//wAAADNhdmNDAWQAFv/hABpnZAAWrNlAgBB5ZYQAAAMABAAAAwAoPFi2WAEABmjr48siwAAA\n",
              "ABx1dWlka2hA8l8kT8W6OaUbzwMj8wAAAAAAAAAYc3R0cwAAAAAAAAABAAAAKQAACAAAAAAUc3Rz\n",
              "cwAAAAAAAAABAAAAAQAAAUBjdHRzAAAAAAAAACYAAAACAAAQAAAAAAEAABgAAAAAAQAACAAAAAAB\n",
              "AAAQAAAAAAEAACAAAAAAAgAACAAAAAACAAAQAAAAAAEAABgAAAAAAQAACAAAAAABAAAoAAAAAAEA\n",
              "ABAAAAAAAQAAAAAAAAABAAAIAAAAAAEAACgAAAAAAQAAEAAAAAABAAAAAAAAAAEAAAgAAAAAAQAA\n",
              "KAAAAAABAAAQAAAAAAEAAAAAAAAAAQAACAAAAAABAAAoAAAAAAEAABAAAAAAAQAAAAAAAAABAAAI\n",
              "AAAAAAEAACgAAAAAAQAAEAAAAAABAAAAAAAAAAEAAAgAAAAAAQAAKAAAAAABAAAQAAAAAAEAAAAA\n",
              "AAAAAQAACAAAAAABAAAoAAAAAAEAABAAAAAAAQAAAAAAAAABAAAIAAAAAAEAABAAAAAAHHN0c2MA\n",
              "AAAAAAAAAQAAAAEAAAApAAAAAQAAALhzdHN6AAAAAAAAAAAAAAApAAAXfQAABsYAAAmgAAAHRQAA\n",
              "CtIAAApAAAAGyAAABRwAAAehAAAF9QAAB7UAAANaAAAHPwAAAzAAAAIbAAACUAAABgUAAAJ3AAAB\n",
              "qwAAAeQAAATnAAACaAAAAagAAAFfAAAE6QAAAlsAAAFUAAABJwAABNcAAAGRAAABjQAAAZAAAASf\n",
              "AAABiwAAAQ8AAAEdAAACbwAAAXIAAAExAAABaQAAAecAAAAUc3RjbwAAAAAAAAABAAAALAAAAGJ1\n",
              "ZHRhAAAAWm1ldGEAAAAAAAAAIWhkbHIAAAAAAAAAAG1kaXJhcHBsAAAAAAAAAAAAAAAALWlsc3QA\n",
              "AAAlqXRvbwAAAB1kYXRhAAAAAQAAAABMYXZmNTcuODMuMTAw\n",
              "\">\n",
              "  Your browser does not support the video tag.\n",
              "</video>"
            ]
          },
          "metadata": {}
        }
      ]
    },
    {
      "cell_type": "code",
      "source": [
        "gif_writer = animation.PillowWriter(fps=20)\n",
        "anim.save('embeddings.gif', writer=gif_writer)"
      ],
      "metadata": {
        "id": "BKuYtEbDAJAy"
      },
      "execution_count": null,
      "outputs": []
    }
  ]
}